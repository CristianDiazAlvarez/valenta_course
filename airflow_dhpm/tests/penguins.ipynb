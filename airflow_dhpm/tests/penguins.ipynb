{
 "cells": [
  {
   "cell_type": "code",
   "execution_count": null,
   "id": "d765d5d2",
   "metadata": {},
   "outputs": [],
   "source": [
    "pip install ipykernel"
   ]
  },
  {
   "cell_type": "code",
   "execution_count": null,
   "id": "9f246fff",
   "metadata": {},
   "outputs": [],
   "source": [
    "pip install pandas"
   ]
  },
  {
   "cell_type": "code",
   "execution_count": 2,
   "id": "e24b5637",
   "metadata": {},
   "outputs": [
    {
     "name": "stdout",
     "output_type": "stream",
     "text": [
      "Requirement already satisfied: palmerpenguins in c:\\users\\daniel paloma\\techprojects\\valenta_course\\airflow_dhpm\\.venv\\lib\\site-packages (0.1.4)\n",
      "Requirement already satisfied: pandas in c:\\users\\daniel paloma\\techprojects\\valenta_course\\airflow_dhpm\\.venv\\lib\\site-packages (from palmerpenguins) (2.3.1)\n",
      "Requirement already satisfied: numpy in c:\\users\\daniel paloma\\techprojects\\valenta_course\\airflow_dhpm\\.venv\\lib\\site-packages (from palmerpenguins) (2.3.2)\n",
      "Requirement already satisfied: python-dateutil>=2.8.2 in c:\\users\\daniel paloma\\techprojects\\valenta_course\\airflow_dhpm\\.venv\\lib\\site-packages (from pandas->palmerpenguins) (2.9.0.post0)\n",
      "Requirement already satisfied: pytz>=2020.1 in c:\\users\\daniel paloma\\techprojects\\valenta_course\\airflow_dhpm\\.venv\\lib\\site-packages (from pandas->palmerpenguins) (2025.2)\n",
      "Requirement already satisfied: tzdata>=2022.7 in c:\\users\\daniel paloma\\techprojects\\valenta_course\\airflow_dhpm\\.venv\\lib\\site-packages (from pandas->palmerpenguins) (2025.2)\n",
      "Requirement already satisfied: six>=1.5 in c:\\users\\daniel paloma\\techprojects\\valenta_course\\airflow_dhpm\\.venv\\lib\\site-packages (from python-dateutil>=2.8.2->pandas->palmerpenguins) (1.17.0)\n",
      "Note: you may need to restart the kernel to use updated packages.\n"
     ]
    }
   ],
   "source": [
    "pip install palmerpenguins"
   ]
  },
  {
   "cell_type": "code",
   "execution_count": 1,
   "id": "f2ce1f05",
   "metadata": {},
   "outputs": [
    {
     "ename": "ModuleNotFoundError",
     "evalue": "No module named 'pkg_resources'",
     "output_type": "error",
     "traceback": [
      "\u001b[31m---------------------------------------------------------------------------\u001b[39m",
      "\u001b[31mModuleNotFoundError\u001b[39m                       Traceback (most recent call last)",
      "\u001b[36mCell\u001b[39m\u001b[36m \u001b[39m\u001b[32mIn[1]\u001b[39m\u001b[32m, line 2\u001b[39m\n\u001b[32m      1\u001b[39m \u001b[38;5;28;01mimport\u001b[39;00m\u001b[38;5;250m \u001b[39m\u001b[34;01mpandas\u001b[39;00m\u001b[38;5;250m \u001b[39m\u001b[38;5;28;01mas\u001b[39;00m\u001b[38;5;250m \u001b[39m\u001b[34;01mpd\u001b[39;00m\n\u001b[32m----> \u001b[39m\u001b[32m2\u001b[39m \u001b[38;5;28;01mfrom\u001b[39;00m\u001b[38;5;250m \u001b[39m\u001b[34;01mpalmerpenguins\u001b[39;00m\u001b[38;5;250m \u001b[39m\u001b[38;5;28;01mimport\u001b[39;00m load_penguins\n\u001b[32m      4\u001b[39m \u001b[38;5;66;03m# Load the penguins dataset\u001b[39;00m\n\u001b[32m      5\u001b[39m penguins = load_penguins()\n",
      "\u001b[36mFile \u001b[39m\u001b[32mc:\\Users\\Daniel Paloma\\techprojects\\valenta_course\\airflow_dhpm\\.venv\\Lib\\site-packages\\palmerpenguins\\__init__.py:1\u001b[39m\n\u001b[32m----> \u001b[39m\u001b[32m1\u001b[39m \u001b[38;5;28;01mfrom\u001b[39;00m\u001b[38;5;250m \u001b[39m\u001b[34;01m.\u001b[39;00m\u001b[34;01mpenguins\u001b[39;00m\u001b[38;5;250m \u001b[39m\u001b[38;5;28;01mimport\u001b[39;00m load_penguins\n\u001b[32m      2\u001b[39m \u001b[38;5;28;01mfrom\u001b[39;00m\u001b[38;5;250m \u001b[39m\u001b[34;01m.\u001b[39;00m\u001b[34;01mpenguins\u001b[39;00m\u001b[38;5;250m \u001b[39m\u001b[38;5;28;01mimport\u001b[39;00m load_penguins_raw\n\u001b[32m      4\u001b[39m __version__ = \u001b[33m'\u001b[39m\u001b[33m0.1.4\u001b[39m\u001b[33m'\u001b[39m\n",
      "\u001b[36mFile \u001b[39m\u001b[32mc:\\Users\\Daniel Paloma\\techprojects\\valenta_course\\airflow_dhpm\\.venv\\Lib\\site-packages\\palmerpenguins\\penguins.py:2\u001b[39m\n\u001b[32m      1\u001b[39m \u001b[38;5;28;01mimport\u001b[39;00m\u001b[38;5;250m \u001b[39m\u001b[34;01mpandas\u001b[39;00m\u001b[38;5;250m \u001b[39m\u001b[38;5;28;01mas\u001b[39;00m\u001b[38;5;250m \u001b[39m\u001b[34;01mpd\u001b[39;00m\n\u001b[32m----> \u001b[39m\u001b[32m2\u001b[39m \u001b[38;5;28;01mimport\u001b[39;00m\u001b[38;5;250m \u001b[39m\u001b[34;01mpkg_resources\u001b[39;00m\n\u001b[32m      3\u001b[39m \u001b[38;5;28;01mimport\u001b[39;00m\u001b[38;5;250m \u001b[39m\u001b[34;01mnumpy\u001b[39;00m\u001b[38;5;250m \u001b[39m\u001b[38;5;28;01mas\u001b[39;00m\u001b[38;5;250m \u001b[39m\u001b[34;01mnp\u001b[39;00m\n\u001b[32m      4\u001b[39m \u001b[38;5;28;01mimport\u001b[39;00m\u001b[38;5;250m \u001b[39m\u001b[34;01mos\u001b[39;00m\n",
      "\u001b[31mModuleNotFoundError\u001b[39m: No module named 'pkg_resources'"
     ]
    }
   ],
   "source": [
    "import pandas as pd\n",
    "from palmerpenguins import load_penguins\n",
    "\n",
    "# Load the penguins dataset\n",
    "penguins = load_penguins()\n",
    "\n",
    "# Show basic statistics for numeric columns\n",
    "print(penguins.describe())\n",
    "\n",
    "# Show statistics for categorical columns\n",
    "print(penguins.describe(include=['object']))"
   ]
  },
  {
   "cell_type": "code",
   "execution_count": null,
   "id": "c271137e",
   "metadata": {},
   "outputs": [],
   "source": []
  }
 ],
 "metadata": {
  "kernelspec": {
   "display_name": "airflow_dhpm (3.13.5)",
   "language": "python",
   "name": "python3"
  },
  "language_info": {
   "codemirror_mode": {
    "name": "ipython",
    "version": 3
   },
   "file_extension": ".py",
   "mimetype": "text/x-python",
   "name": "python",
   "nbconvert_exporter": "python",
   "pygments_lexer": "ipython3",
   "version": "3.13.5"
  }
 },
 "nbformat": 4,
 "nbformat_minor": 5
}
