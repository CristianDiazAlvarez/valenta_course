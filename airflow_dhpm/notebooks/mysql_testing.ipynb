{
 "cells": [
  {
   "cell_type": "code",
   "execution_count": null,
   "id": "db45c4fd-c62c-4514-bf5b-5b74fb113eff",
   "metadata": {},
   "outputs": [],
   "source": [
    "#pip install pymysql\n",
    "!pip show pymysql"
   ]
  },
  {
   "cell_type": "code",
   "execution_count": 1,
   "id": "fc8f41d4-0cb7-4d85-ad6a-e12a39b3b710",
   "metadata": {},
   "outputs": [],
   "source": [
    "import numpy as np\n",
    "import pandas as pd"
   ]
  },
  {
   "cell_type": "markdown",
   "id": "c46fa6f7-da89-4a1d-9479-c7b7aa087e83",
   "metadata": {},
   "source": [
    "## Testing db connection"
   ]
  },
  {
   "cell_type": "code",
   "execution_count": 2,
   "id": "fa7aeee9-235d-4860-b76a-a6bae050917c",
   "metadata": {},
   "outputs": [
    {
     "name": "stdout",
     "output_type": "stream",
     "text": [
      "Connection to MySQL DB successful\n"
     ]
    }
   ],
   "source": [
    "import pymysql\n",
    "\n",
    "host='db' #this is the service in docker-compose\n",
    "user='root'\n",
    "password='example'\n",
    "\n",
    "\n",
    "try:\n",
    "    connection = pymysql.connect(\n",
    "        host=host,           # Use 'db' if running from another container, 'localhost' if from host and port is mapped\n",
    "        user=user,\n",
    "        password=password\n",
    "    )\n",
    "    print(\"Connection to MySQL DB successful\")\n",
    "except Exception as e:\n",
    "    print(f\"Error: {e}\")\n",
    "finally:\n",
    "    if 'connection' in locals() and connection.open:\n",
    "        connection.close()"
   ]
  },
  {
   "cell_type": "code",
   "execution_count": null,
   "id": "3dfbb280-c2a1-41f2-800b-75b0dc131d20",
   "metadata": {},
   "outputs": [],
   "source": [
    "# Install the package (run this in your Jupyter notebook cell if not already installed)\n",
    "!pip install palmerpenguins"
   ]
  },
  {
   "cell_type": "code",
   "execution_count": 3,
   "id": "65bbff42-b6e6-49ed-9839-7f75ec978bb0",
   "metadata": {},
   "outputs": [
    {
     "name": "stdout",
     "output_type": "stream",
     "text": [
      "  species     island  bill_length_mm  bill_depth_mm  flipper_length_mm  \\\n",
      "0  Adelie  Torgersen            39.1           18.7              181.0   \n",
      "1  Adelie  Torgersen            39.5           17.4              186.0   \n",
      "2  Adelie  Torgersen            40.3           18.0              195.0   \n",
      "3  Adelie  Torgersen             NaN            NaN                NaN   \n",
      "4  Adelie  Torgersen            36.7           19.3              193.0   \n",
      "\n",
      "   body_mass_g     sex  year  \n",
      "0       3750.0    male  2007  \n",
      "1       3800.0  female  2007  \n",
      "2       3250.0  female  2007  \n",
      "3          NaN    None  2007  \n",
      "4       3450.0  female  2007  \n"
     ]
    }
   ],
   "source": [
    "# Import the dataset\n",
    "from palmerpenguins import load_penguins\n",
    "\n",
    "penguins = load_penguins()\n",
    "\n",
    "# Replace NaN with None for SQL compatibility\n",
    "penguins = penguins.where(pd.notnull(penguins), None)\n",
    "\n",
    "print(penguins.head())"
   ]
  },
  {
   "cell_type": "code",
   "execution_count": 6,
   "id": "23e5bb0f-c4bc-4229-83fa-6a0a9666bfa5",
   "metadata": {},
   "outputs": [],
   "source": [
    "penguins = penguins.dropna()"
   ]
  },
  {
   "cell_type": "code",
   "execution_count": 9,
   "id": "02c13c35-b421-46c1-a224-3e31e7e01676",
   "metadata": {},
   "outputs": [
    {
     "name": "stdout",
     "output_type": "stream",
     "text": [
      "       bill_length_mm  bill_depth_mm  flipper_length_mm  body_mass_g  \\\n",
      "count      333.000000     333.000000         333.000000   333.000000   \n",
      "mean        43.992793      17.164865         200.966967  4207.057057   \n",
      "std          5.468668       1.969235          14.015765   805.215802   \n",
      "min         32.100000      13.100000         172.000000  2700.000000   \n",
      "25%         39.500000      15.600000         190.000000  3550.000000   \n",
      "50%         44.500000      17.300000         197.000000  4050.000000   \n",
      "75%         48.600000      18.700000         213.000000  4775.000000   \n",
      "max         59.600000      21.500000         231.000000  6300.000000   \n",
      "\n",
      "              year  \n",
      "count   333.000000  \n",
      "mean   2008.042042  \n",
      "std       0.812944  \n",
      "min    2007.000000  \n",
      "25%    2007.000000  \n",
      "50%    2008.000000  \n",
      "75%    2009.000000  \n",
      "max    2009.000000  \n",
      "       species  island   sex\n",
      "count      333     333   333\n",
      "unique       3       3     2\n",
      "top     Adelie  Biscoe  male\n",
      "freq       146     163   168\n"
     ]
    }
   ],
   "source": [
    "# Show basic statistics for numeric columns\n",
    "print(penguins.describe())\n",
    "\n",
    "# Show statistics for categorical columns\n",
    "print(penguins.describe(include=['object']))"
   ]
  },
  {
   "cell_type": "markdown",
   "id": "9a151034-8493-4adf-bce1-c6e6376f4971",
   "metadata": {},
   "source": [
    "## Create database - penguin_db"
   ]
  },
  {
   "cell_type": "code",
   "execution_count": 4,
   "id": "791a644f-9d2c-465a-a062-7432513abea0",
   "metadata": {},
   "outputs": [
    {
     "name": "stdout",
     "output_type": "stream",
     "text": [
      "Database 'penguin_db' is ready.\n"
     ]
    }
   ],
   "source": [
    "database = 'penguin_db'  # the database you want to create\n",
    "\n",
    "# Connect to MySQL server\n",
    "conn = pymysql.connect(\n",
    "    host=host,\n",
    "    user=user,\n",
    "    password=password\n",
    ")\n",
    "cur = conn.cursor()\n",
    "\n",
    "# Create database if it does not exist\n",
    "cur.execute(f\"CREATE DATABASE IF NOT EXISTS {database};\")\n",
    "print(f\"Database '{database}' is ready.\")\n",
    "\n",
    "cur.close()\n",
    "conn.close()"
   ]
  },
  {
   "cell_type": "markdown",
   "id": "c5eb897f-1c5c-433f-9bbb-81a11ccbe389",
   "metadata": {},
   "source": [
    "## Create table - penguins"
   ]
  },
  {
   "cell_type": "code",
   "execution_count": null,
   "id": "b902d831-d3bb-4552-862e-f35f72ba7444",
   "metadata": {},
   "outputs": [],
   "source": [
    "\n",
    "# Connect to MySQL\n",
    "conn = pymysql.connect(\n",
    "    host=host,\n",
    "    user=user,\n",
    "    password=password,\n",
    "    database=database\n",
    ")\n",
    "\n",
    "# Create a cursor object\n",
    "cur = conn.cursor()\n",
    "\n",
    "# Create table if not exists\n",
    "create_table_query = \"\"\"\n",
    "CREATE TABLE IF NOT EXISTS penguins (\n",
    "    species VARCHAR(20),\n",
    "    island VARCHAR(20),\n",
    "    bill_length_mm FLOAT,\n",
    "    bill_depth_mm FLOAT,\n",
    "    flipper_length_mm FLOAT,\n",
    "    body_mass_g FLOAT,\n",
    "    sex VARCHAR(10),\n",
    "    year INT\n",
    ")\n",
    "\"\"\"\n",
    "cur.execute(create_table_query)\n",
    "\n",
    "# Insert data row by row\n",
    "insert_query = \"\"\"\n",
    "INSERT INTO penguins (species, island, bill_length_mm, bill_depth_mm, flipper_length_mm, body_mass_g, sex, year)\n",
    "VALUES (%s, %s, %s, %s, %s, %s, %s, %s)\n",
    "\"\"\"\n",
    "\n",
    "for _, row in penguins.iterrows():\n",
    "    cur.execute(insert_query, tuple(row))\n",
    "    #print(tuple(row))\n",
    "    \n",
    "conn.commit()\n",
    "cur.close()\n",
    "conn.close()\n",
    "\n",
    "print(\"Penguins dataset loaded into MySQL using pymysql!\")"
   ]
  },
  {
   "cell_type": "markdown",
   "id": "db8307e6-1065-433b-a090-8c719d300da8",
   "metadata": {},
   "source": [
    "## Fetch data from table penguins"
   ]
  },
  {
   "cell_type": "code",
   "execution_count": 8,
   "id": "9826712b-4010-42fa-9cf5-f3035cb3b00c",
   "metadata": {},
   "outputs": [
    {
     "name": "stdout",
     "output_type": "stream",
     "text": [
      "Table 'penguins' exists. Showing first 5 rows:\n",
      "('Adelie', 'Torgersen', 39.1, 18.7, 181.0, 3750.0, 'male', 2007)\n",
      "('Adelie', 'Torgersen', 39.5, 17.4, 186.0, 3800.0, 'female', 2007)\n",
      "('Adelie', 'Torgersen', 40.3, 18.0, 195.0, 3250.0, 'female', 2007)\n",
      "('Adelie', 'Torgersen', 36.7, 19.3, 193.0, 3450.0, 'female', 2007)\n",
      "('Adelie', 'Torgersen', 39.3, 20.6, 190.0, 3650.0, 'male', 2007)\n"
     ]
    }
   ],
   "source": [
    "# Connect to MySQL\n",
    "conn = pymysql.connect(\n",
    "    host=host,\n",
    "    user=user,\n",
    "    password=password,\n",
    "    database=database\n",
    ")\n",
    "cur = conn.cursor()\n",
    "\n",
    "# Check if table exists\n",
    "cur.execute(\"\"\"\n",
    "    SELECT COUNT(*)\n",
    "    FROM information_schema.tables\n",
    "    WHERE table_schema = %s\n",
    "      AND table_name = %s\n",
    "\"\"\", (database, 'penguins'))\n",
    "\n",
    "if cur.fetchone()[0]:\n",
    "    print(\"Table 'penguins' exists. Showing first 5 rows:\")\n",
    "    cur.execute(\"SELECT * FROM penguins LIMIT 5\")\n",
    "    for row in cur.fetchall():\n",
    "        print(row)\n",
    "else:\n",
    "    print(\"Table 'penguins' does not exist in database 'penguins_db'.\")\n",
    "\n",
    "cur.close()\n",
    "conn.close()"
   ]
  },
  {
   "cell_type": "markdown",
   "id": "f4d210a0-722a-485a-904a-4920cbf27701",
   "metadata": {},
   "source": [
    "## Pre-processing\n"
   ]
  },
  {
   "cell_type": "code",
   "execution_count": 10,
   "id": "3d2050fd-db08-48fa-b589-52d3ffb6e56d",
   "metadata": {},
   "outputs": [
    {
     "name": "stdout",
     "output_type": "stream",
     "text": [
      "Name: PyMySQL\n",
      "Version: 1.1.1\n",
      "Summary: Pure Python MySQL Driver\n",
      "Home-page: \n",
      "Author: \n",
      "Author-email: Inada Naoki <songofacandy@gmail.com>, Yutaka Matsubara <yutaka.matsubara@gmail.com>\n",
      "License: MIT License\n",
      "Location: /opt/conda/lib/python3.11/site-packages\n",
      "Requires: \n",
      "Required-by: \n",
      "Note: you may need to restart the kernel to use updated packages.\n"
     ]
    }
   ],
   "source": [
    "pip show pymysql"
   ]
  },
  {
   "cell_type": "code",
   "execution_count": null,
   "id": "68aeeaff-bbea-4f4f-ae05-cd3a068753b6",
   "metadata": {},
   "outputs": [],
   "source": []
  }
 ],
 "metadata": {
  "kernelspec": {
   "display_name": "Python 3 (ipykernel)",
   "language": "python",
   "name": "python3"
  },
  "language_info": {
   "codemirror_mode": {
    "name": "ipython",
    "version": 3
   },
   "file_extension": ".py",
   "mimetype": "text/x-python",
   "name": "python",
   "nbconvert_exporter": "python",
   "pygments_lexer": "ipython3",
   "version": "3.11.6"
  }
 },
 "nbformat": 4,
 "nbformat_minor": 5
}
