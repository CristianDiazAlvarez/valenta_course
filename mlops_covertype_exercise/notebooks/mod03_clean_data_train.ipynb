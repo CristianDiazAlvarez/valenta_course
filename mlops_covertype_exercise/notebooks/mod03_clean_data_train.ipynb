{
 "cells": [
  {
   "cell_type": "markdown",
   "id": "df178d91-e4fb-4181-bb03-5f983d623477",
   "metadata": {},
   "source": [
    "# Initialize"
   ]
  },
  {
   "cell_type": "code",
   "execution_count": 3,
   "id": "73c161fd-5cb7-49b3-8814-d1eeefde91e1",
   "metadata": {},
   "outputs": [
    {
     "name": "stdout",
     "output_type": "stream",
     "text": [
      "Collecting mysql-connector-python==9.4.0\n",
      "  Downloading mysql_connector_python-9.4.0-cp311-cp311-manylinux_2_28_x86_64.whl.metadata (7.3 kB)\n",
      "Downloading mysql_connector_python-9.4.0-cp311-cp311-manylinux_2_28_x86_64.whl (33.9 MB)\n",
      "\u001b[2K   \u001b[90m━━━━━━━━━━━━━━━━━━━━━━━━━━━━━━━━━━━━━━━━\u001b[0m \u001b[32m33.9/33.9 MB\u001b[0m \u001b[31m16.0 MB/s\u001b[0m eta \u001b[36m0:00:00\u001b[0m00:01\u001b[0m00:01\u001b[0m\n",
      "\u001b[?25hInstalling collected packages: mysql-connector-python\n",
      "Successfully installed mysql-connector-python-9.4.0\n",
      "Note: you may need to restart the kernel to use updated packages.\n"
     ]
    }
   ],
   "source": [
    "pip install mysql-connector-python==9.4.0"
   ]
  },
  {
   "cell_type": "code",
   "execution_count": 8,
   "id": "a908a226-c04f-4846-acbe-aff775d0d1eb",
   "metadata": {},
   "outputs": [
    {
     "name": "stdout",
     "output_type": "stream",
     "text": [
      "Collecting boto3==1.40.2\n",
      "  Downloading boto3-1.40.2-py3-none-any.whl.metadata (6.7 kB)\n",
      "Collecting botocore<1.41.0,>=1.40.2 (from boto3==1.40.2)\n",
      "  Downloading botocore-1.40.6-py3-none-any.whl.metadata (5.7 kB)\n",
      "Collecting jmespath<2.0.0,>=0.7.1 (from boto3==1.40.2)\n",
      "  Downloading jmespath-1.0.1-py3-none-any.whl.metadata (7.6 kB)\n",
      "Collecting s3transfer<0.14.0,>=0.13.0 (from boto3==1.40.2)\n",
      "  Downloading s3transfer-0.13.1-py3-none-any.whl.metadata (1.7 kB)\n",
      "Requirement already satisfied: python-dateutil<3.0.0,>=2.1 in /opt/conda/lib/python3.11/site-packages (from botocore<1.41.0,>=1.40.2->boto3==1.40.2) (2.8.2)\n",
      "Requirement already satisfied: urllib3!=2.2.0,<3,>=1.25.4 in /opt/conda/lib/python3.11/site-packages (from botocore<1.41.0,>=1.40.2->boto3==1.40.2) (2.0.7)\n",
      "Requirement already satisfied: six>=1.5 in /opt/conda/lib/python3.11/site-packages (from python-dateutil<3.0.0,>=2.1->botocore<1.41.0,>=1.40.2->boto3==1.40.2) (1.16.0)\n",
      "Downloading boto3-1.40.2-py3-none-any.whl (139 kB)\n",
      "\u001b[2K   \u001b[90m━━━━━━━━━━━━━━━━━━━━━━━━━━━━━━━━━━━━━━━━\u001b[0m \u001b[32m139.9/139.9 kB\u001b[0m \u001b[31m5.6 MB/s\u001b[0m eta \u001b[36m0:00:00\u001b[0m\n",
      "\u001b[?25hDownloading botocore-1.40.6-py3-none-any.whl (14.0 MB)\n",
      "\u001b[2K   \u001b[90m━━━━━━━━━━━━━━━━━━━━━━━━━━━━━━━━━━━━━━━━\u001b[0m \u001b[32m14.0/14.0 MB\u001b[0m \u001b[31m17.8 MB/s\u001b[0m eta \u001b[36m0:00:00\u001b[0m00:01\u001b[0m00:01\u001b[0m\n",
      "\u001b[?25hDownloading jmespath-1.0.1-py3-none-any.whl (20 kB)\n",
      "Downloading s3transfer-0.13.1-py3-none-any.whl (85 kB)\n",
      "\u001b[2K   \u001b[90m━━━━━━━━━━━━━━━━━━━━━━━━━━━━━━━━━━━━━━━━\u001b[0m \u001b[32m85.3/85.3 kB\u001b[0m \u001b[31m7.9 MB/s\u001b[0m eta \u001b[36m0:00:00\u001b[0m\n",
      "\u001b[?25hInstalling collected packages: jmespath, botocore, s3transfer, boto3\n",
      "Successfully installed boto3-1.40.2 botocore-1.40.6 jmespath-1.0.1 s3transfer-0.13.1\n",
      "Note: you may need to restart the kernel to use updated packages.\n"
     ]
    }
   ],
   "source": [
    "pip install boto3==1.40.2"
   ]
  },
  {
   "cell_type": "code",
   "execution_count": 9,
   "id": "f84327e7-af95-4084-bd2f-d80e1034596a",
   "metadata": {},
   "outputs": [
    {
     "name": "stdout",
     "output_type": "stream",
     "text": [
      "Collecting mlflow==3.2.0\n",
      "  Downloading mlflow-3.2.0-py3-none-any.whl.metadata (29 kB)\n",
      "Collecting mlflow-skinny==3.2.0 (from mlflow==3.2.0)\n",
      "  Downloading mlflow_skinny-3.2.0-py3-none-any.whl.metadata (30 kB)\n",
      "Collecting mlflow-tracing==3.2.0 (from mlflow==3.2.0)\n",
      "  Downloading mlflow_tracing-3.2.0-py3-none-any.whl.metadata (19 kB)\n",
      "Collecting Flask<4 (from mlflow==3.2.0)\n",
      "  Downloading flask-3.1.1-py3-none-any.whl.metadata (3.0 kB)\n",
      "Requirement already satisfied: alembic!=1.10.0,<2 in /opt/conda/lib/python3.11/site-packages (from mlflow==3.2.0) (1.12.0)\n",
      "Collecting docker<8,>=4.0.0 (from mlflow==3.2.0)\n",
      "  Downloading docker-7.1.0-py3-none-any.whl.metadata (3.8 kB)\n",
      "Collecting graphene<4 (from mlflow==3.2.0)\n",
      "  Downloading graphene-3.4.3-py2.py3-none-any.whl.metadata (6.9 kB)\n",
      "Collecting gunicorn<24 (from mlflow==3.2.0)\n",
      "  Downloading gunicorn-23.0.0-py3-none-any.whl.metadata (4.4 kB)\n",
      "Requirement already satisfied: matplotlib<4 in /opt/conda/lib/python3.11/site-packages (from mlflow==3.2.0) (3.8.0)\n",
      "Requirement already satisfied: numpy<3 in /opt/conda/lib/python3.11/site-packages (from mlflow==3.2.0) (1.24.4)\n",
      "Requirement already satisfied: pandas<3 in /opt/conda/lib/python3.11/site-packages (from mlflow==3.2.0) (2.1.1)\n",
      "Requirement already satisfied: pyarrow<22,>=4.0.0 in /opt/conda/lib/python3.11/site-packages (from mlflow==3.2.0) (13.0.0)\n",
      "Requirement already satisfied: scikit-learn<2 in /opt/conda/lib/python3.11/site-packages (from mlflow==3.2.0) (1.3.1)\n",
      "Requirement already satisfied: scipy<2 in /opt/conda/lib/python3.11/site-packages (from mlflow==3.2.0) (1.11.3)\n",
      "Requirement already satisfied: sqlalchemy<3,>=1.4.0 in /opt/conda/lib/python3.11/site-packages (from mlflow==3.2.0) (2.0.22)\n",
      "Collecting cachetools<7,>=5.0.0 (from mlflow-skinny==3.2.0->mlflow==3.2.0)\n",
      "  Downloading cachetools-6.1.0-py3-none-any.whl.metadata (5.4 kB)\n",
      "Requirement already satisfied: click<9,>=7.0 in /opt/conda/lib/python3.11/site-packages (from mlflow-skinny==3.2.0->mlflow==3.2.0) (8.1.7)\n",
      "Requirement already satisfied: cloudpickle<4 in /opt/conda/lib/python3.11/site-packages (from mlflow-skinny==3.2.0->mlflow==3.2.0) (3.0.0)\n",
      "Collecting databricks-sdk<1,>=0.20.0 (from mlflow-skinny==3.2.0->mlflow==3.2.0)\n",
      "  Downloading databricks_sdk-0.62.0-py3-none-any.whl.metadata (39 kB)\n",
      "Collecting fastapi<1 (from mlflow-skinny==3.2.0->mlflow==3.2.0)\n",
      "  Downloading fastapi-0.116.1-py3-none-any.whl.metadata (28 kB)\n",
      "Requirement already satisfied: gitpython<4,>=3.1.9 in /opt/conda/lib/python3.11/site-packages (from mlflow-skinny==3.2.0->mlflow==3.2.0) (3.1.40)\n",
      "Requirement already satisfied: importlib_metadata!=4.7.0,<9,>=3.7.0 in /opt/conda/lib/python3.11/site-packages (from mlflow-skinny==3.2.0->mlflow==3.2.0) (6.8.0)\n",
      "Collecting opentelemetry-api<3,>=1.9.0 (from mlflow-skinny==3.2.0->mlflow==3.2.0)\n",
      "  Downloading opentelemetry_api-1.36.0-py3-none-any.whl.metadata (1.5 kB)\n",
      "Collecting opentelemetry-sdk<3,>=1.9.0 (from mlflow-skinny==3.2.0->mlflow==3.2.0)\n",
      "  Downloading opentelemetry_sdk-1.36.0-py3-none-any.whl.metadata (1.5 kB)\n",
      "Requirement already satisfied: packaging<26 in /opt/conda/lib/python3.11/site-packages (from mlflow-skinny==3.2.0->mlflow==3.2.0) (23.2)\n",
      "Requirement already satisfied: protobuf<7,>=3.12.0 in /opt/conda/lib/python3.11/site-packages (from mlflow-skinny==3.2.0->mlflow==3.2.0) (4.24.3)\n",
      "Collecting pydantic<3,>=1.10.8 (from mlflow-skinny==3.2.0->mlflow==3.2.0)\n",
      "  Downloading pydantic-2.11.7-py3-none-any.whl.metadata (67 kB)\n",
      "\u001b[2K     \u001b[90m━━━━━━━━━━━━━━━━━━━━━━━━━━━━━━━━━━━━━━━━\u001b[0m \u001b[32m68.0/68.0 kB\u001b[0m \u001b[31m6.1 MB/s\u001b[0m eta \u001b[36m0:00:00\u001b[0m\n",
      "\u001b[?25hRequirement already satisfied: pyyaml<7,>=5.1 in /opt/conda/lib/python3.11/site-packages (from mlflow-skinny==3.2.0->mlflow==3.2.0) (6.0.1)\n",
      "Requirement already satisfied: requests<3,>=2.17.3 in /opt/conda/lib/python3.11/site-packages (from mlflow-skinny==3.2.0->mlflow==3.2.0) (2.31.0)\n",
      "Collecting sqlparse<1,>=0.4.0 (from mlflow-skinny==3.2.0->mlflow==3.2.0)\n",
      "  Downloading sqlparse-0.5.3-py3-none-any.whl.metadata (3.9 kB)\n",
      "Requirement already satisfied: typing-extensions<5,>=4.0.0 in /opt/conda/lib/python3.11/site-packages (from mlflow-skinny==3.2.0->mlflow==3.2.0) (4.8.0)\n",
      "Collecting uvicorn<1 (from mlflow-skinny==3.2.0->mlflow==3.2.0)\n",
      "  Downloading uvicorn-0.35.0-py3-none-any.whl.metadata (6.5 kB)\n",
      "Requirement already satisfied: Mako in /opt/conda/lib/python3.11/site-packages (from alembic!=1.10.0,<2->mlflow==3.2.0) (1.2.4)\n",
      "Requirement already satisfied: urllib3>=1.26.0 in /opt/conda/lib/python3.11/site-packages (from docker<8,>=4.0.0->mlflow==3.2.0) (2.0.7)\n",
      "Collecting blinker>=1.9.0 (from Flask<4->mlflow==3.2.0)\n",
      "  Downloading blinker-1.9.0-py3-none-any.whl.metadata (1.6 kB)\n",
      "Collecting itsdangerous>=2.2.0 (from Flask<4->mlflow==3.2.0)\n",
      "  Downloading itsdangerous-2.2.0-py3-none-any.whl.metadata (1.9 kB)\n",
      "Requirement already satisfied: jinja2>=3.1.2 in /opt/conda/lib/python3.11/site-packages (from Flask<4->mlflow==3.2.0) (3.1.2)\n",
      "Requirement already satisfied: markupsafe>=2.1.1 in /opt/conda/lib/python3.11/site-packages (from Flask<4->mlflow==3.2.0) (2.1.3)\n",
      "Collecting werkzeug>=3.1.0 (from Flask<4->mlflow==3.2.0)\n",
      "  Downloading werkzeug-3.1.3-py3-none-any.whl.metadata (3.7 kB)\n",
      "Collecting graphql-core<3.3,>=3.1 (from graphene<4->mlflow==3.2.0)\n",
      "  Downloading graphql_core-3.2.6-py3-none-any.whl.metadata (11 kB)\n",
      "Collecting graphql-relay<3.3,>=3.1 (from graphene<4->mlflow==3.2.0)\n",
      "  Downloading graphql_relay-3.2.0-py3-none-any.whl.metadata (12 kB)\n",
      "Requirement already satisfied: python-dateutil<3,>=2.7.0 in /opt/conda/lib/python3.11/site-packages (from graphene<4->mlflow==3.2.0) (2.8.2)\n",
      "Requirement already satisfied: contourpy>=1.0.1 in /opt/conda/lib/python3.11/site-packages (from matplotlib<4->mlflow==3.2.0) (1.1.1)\n",
      "Requirement already satisfied: cycler>=0.10 in /opt/conda/lib/python3.11/site-packages (from matplotlib<4->mlflow==3.2.0) (0.12.1)\n",
      "Requirement already satisfied: fonttools>=4.22.0 in /opt/conda/lib/python3.11/site-packages (from matplotlib<4->mlflow==3.2.0) (4.43.1)\n",
      "Requirement already satisfied: kiwisolver>=1.0.1 in /opt/conda/lib/python3.11/site-packages (from matplotlib<4->mlflow==3.2.0) (1.4.5)\n",
      "Requirement already satisfied: pillow>=6.2.0 in /opt/conda/lib/python3.11/site-packages (from matplotlib<4->mlflow==3.2.0) (10.1.0)\n",
      "Requirement already satisfied: pyparsing>=2.3.1 in /opt/conda/lib/python3.11/site-packages (from matplotlib<4->mlflow==3.2.0) (3.1.1)\n",
      "Requirement already satisfied: pytz>=2020.1 in /opt/conda/lib/python3.11/site-packages (from pandas<3->mlflow==3.2.0) (2023.3.post1)\n",
      "Requirement already satisfied: tzdata>=2022.1 in /opt/conda/lib/python3.11/site-packages (from pandas<3->mlflow==3.2.0) (2023.3)\n",
      "Requirement already satisfied: joblib>=1.1.1 in /opt/conda/lib/python3.11/site-packages (from scikit-learn<2->mlflow==3.2.0) (1.3.2)\n",
      "Requirement already satisfied: threadpoolctl>=2.0.0 in /opt/conda/lib/python3.11/site-packages (from scikit-learn<2->mlflow==3.2.0) (3.2.0)\n",
      "Requirement already satisfied: greenlet!=0.4.17 in /opt/conda/lib/python3.11/site-packages (from sqlalchemy<3,>=1.4.0->mlflow==3.2.0) (3.0.0)\n",
      "Collecting google-auth~=2.0 (from databricks-sdk<1,>=0.20.0->mlflow-skinny==3.2.0->mlflow==3.2.0)\n",
      "  Downloading google_auth-2.40.3-py2.py3-none-any.whl.metadata (6.2 kB)\n",
      "Collecting starlette<0.48.0,>=0.40.0 (from fastapi<1->mlflow-skinny==3.2.0->mlflow==3.2.0)\n",
      "  Downloading starlette-0.47.2-py3-none-any.whl.metadata (6.2 kB)\n",
      "Requirement already satisfied: gitdb<5,>=4.0.1 in /opt/conda/lib/python3.11/site-packages (from gitpython<4,>=3.1.9->mlflow-skinny==3.2.0->mlflow==3.2.0) (4.0.10)\n",
      "Requirement already satisfied: zipp>=0.5 in /opt/conda/lib/python3.11/site-packages (from importlib_metadata!=4.7.0,<9,>=3.7.0->mlflow-skinny==3.2.0->mlflow==3.2.0) (3.17.0)\n",
      "Collecting opentelemetry-semantic-conventions==0.57b0 (from opentelemetry-sdk<3,>=1.9.0->mlflow-skinny==3.2.0->mlflow==3.2.0)\n",
      "  Downloading opentelemetry_semantic_conventions-0.57b0-py3-none-any.whl.metadata (2.4 kB)\n",
      "Collecting annotated-types>=0.6.0 (from pydantic<3,>=1.10.8->mlflow-skinny==3.2.0->mlflow==3.2.0)\n",
      "  Downloading annotated_types-0.7.0-py3-none-any.whl.metadata (15 kB)\n",
      "Collecting pydantic-core==2.33.2 (from pydantic<3,>=1.10.8->mlflow-skinny==3.2.0->mlflow==3.2.0)\n",
      "  Downloading pydantic_core-2.33.2-cp311-cp311-manylinux_2_17_x86_64.manylinux2014_x86_64.whl.metadata (6.8 kB)\n",
      "Collecting typing-extensions<5,>=4.0.0 (from mlflow-skinny==3.2.0->mlflow==3.2.0)\n",
      "  Downloading typing_extensions-4.14.1-py3-none-any.whl.metadata (3.0 kB)\n",
      "Collecting typing-inspection>=0.4.0 (from pydantic<3,>=1.10.8->mlflow-skinny==3.2.0->mlflow==3.2.0)\n",
      "  Downloading typing_inspection-0.4.1-py3-none-any.whl.metadata (2.6 kB)\n",
      "Requirement already satisfied: six>=1.5 in /opt/conda/lib/python3.11/site-packages (from python-dateutil<3,>=2.7.0->graphene<4->mlflow==3.2.0) (1.16.0)\n",
      "Requirement already satisfied: charset-normalizer<4,>=2 in /opt/conda/lib/python3.11/site-packages (from requests<3,>=2.17.3->mlflow-skinny==3.2.0->mlflow==3.2.0) (3.3.0)\n",
      "Requirement already satisfied: idna<4,>=2.5 in /opt/conda/lib/python3.11/site-packages (from requests<3,>=2.17.3->mlflow-skinny==3.2.0->mlflow==3.2.0) (3.4)\n",
      "Requirement already satisfied: certifi>=2017.4.17 in /opt/conda/lib/python3.11/site-packages (from requests<3,>=2.17.3->mlflow-skinny==3.2.0->mlflow==3.2.0) (2023.7.22)\n",
      "Collecting h11>=0.8 (from uvicorn<1->mlflow-skinny==3.2.0->mlflow==3.2.0)\n",
      "  Downloading h11-0.16.0-py3-none-any.whl.metadata (8.3 kB)\n",
      "Requirement already satisfied: smmap<6,>=3.0.1 in /opt/conda/lib/python3.11/site-packages (from gitdb<5,>=4.0.1->gitpython<4,>=3.1.9->mlflow-skinny==3.2.0->mlflow==3.2.0) (3.0.5)\n",
      "Collecting cachetools<7,>=5.0.0 (from mlflow-skinny==3.2.0->mlflow==3.2.0)\n",
      "  Downloading cachetools-5.5.2-py3-none-any.whl.metadata (5.4 kB)\n",
      "Collecting pyasn1-modules>=0.2.1 (from google-auth~=2.0->databricks-sdk<1,>=0.20.0->mlflow-skinny==3.2.0->mlflow==3.2.0)\n",
      "  Downloading pyasn1_modules-0.4.2-py3-none-any.whl.metadata (3.5 kB)\n",
      "Collecting rsa<5,>=3.1.4 (from google-auth~=2.0->databricks-sdk<1,>=0.20.0->mlflow-skinny==3.2.0->mlflow==3.2.0)\n",
      "  Downloading rsa-4.9.1-py3-none-any.whl.metadata (5.6 kB)\n",
      "Requirement already satisfied: anyio<5,>=3.6.2 in /opt/conda/lib/python3.11/site-packages (from starlette<0.48.0,>=0.40.0->fastapi<1->mlflow-skinny==3.2.0->mlflow==3.2.0) (4.0.0)\n",
      "Requirement already satisfied: sniffio>=1.1 in /opt/conda/lib/python3.11/site-packages (from anyio<5,>=3.6.2->starlette<0.48.0,>=0.40.0->fastapi<1->mlflow-skinny==3.2.0->mlflow==3.2.0) (1.3.0)\n",
      "Collecting pyasn1<0.7.0,>=0.6.1 (from pyasn1-modules>=0.2.1->google-auth~=2.0->databricks-sdk<1,>=0.20.0->mlflow-skinny==3.2.0->mlflow==3.2.0)\n",
      "  Downloading pyasn1-0.6.1-py3-none-any.whl.metadata (8.4 kB)\n",
      "Downloading mlflow-3.2.0-py3-none-any.whl (25.8 MB)\n",
      "\u001b[2K   \u001b[90m━━━━━━━━━━━━━━━━━━━━━━━━━━━━━━━━━━━━━━━━\u001b[0m \u001b[32m25.8/25.8 MB\u001b[0m \u001b[31m15.9 MB/s\u001b[0m eta \u001b[36m0:00:00\u001b[0m00:01\u001b[0m00:01\u001b[0m\n",
      "\u001b[?25hDownloading mlflow_skinny-3.2.0-py3-none-any.whl (2.0 MB)\n",
      "\u001b[2K   \u001b[90m━━━━━━━━━━━━━━━━━━━━━━━━━━━━━━━━━━━━━━━━\u001b[0m \u001b[32m2.0/2.0 MB\u001b[0m \u001b[31m16.2 MB/s\u001b[0m eta \u001b[36m0:00:00\u001b[0m00:01\u001b[0m00:01\u001b[0m\n",
      "\u001b[?25hDownloading mlflow_tracing-3.2.0-py3-none-any.whl (1.1 MB)\n",
      "\u001b[2K   \u001b[90m━━━━━━━━━━━━━━━━━━━━━━━━━━━━━━━━━━━━━━━━\u001b[0m \u001b[32m1.1/1.1 MB\u001b[0m \u001b[31m16.0 MB/s\u001b[0m eta \u001b[36m0:00:00\u001b[0ma \u001b[36m0:00:01\u001b[0m\n",
      "\u001b[?25hDownloading docker-7.1.0-py3-none-any.whl (147 kB)\n",
      "\u001b[2K   \u001b[90m━━━━━━━━━━━━━━━━━━━━━━━━━━━━━━━━━━━━━━━━\u001b[0m \u001b[32m147.8/147.8 kB\u001b[0m \u001b[31m10.7 MB/s\u001b[0m eta \u001b[36m0:00:00\u001b[0m\n",
      "\u001b[?25hDownloading flask-3.1.1-py3-none-any.whl (103 kB)\n",
      "\u001b[2K   \u001b[90m━━━━━━━━━━━━━━━━━━━━━━━━━━━━━━━━━━━━━━━━\u001b[0m \u001b[32m103.3/103.3 kB\u001b[0m \u001b[31m11.8 MB/s\u001b[0m eta \u001b[36m0:00:00\u001b[0m\n",
      "\u001b[?25hDownloading graphene-3.4.3-py2.py3-none-any.whl (114 kB)\n",
      "\u001b[2K   \u001b[90m━━━━━━━━━━━━━━━━━━━━━━━━━━━━━━━━━━━━━━━━\u001b[0m \u001b[32m114.9/114.9 kB\u001b[0m \u001b[31m6.1 MB/s\u001b[0m eta \u001b[36m0:00:00\u001b[0m\n",
      "\u001b[?25hDownloading gunicorn-23.0.0-py3-none-any.whl (85 kB)\n",
      "\u001b[2K   \u001b[90m━━━━━━━━━━━━━━━━━━━━━━━━━━━━━━━━━━━━━━━━\u001b[0m \u001b[32m85.0/85.0 kB\u001b[0m \u001b[31m10.0 MB/s\u001b[0m eta \u001b[36m0:00:00\u001b[0m\n",
      "\u001b[?25hDownloading blinker-1.9.0-py3-none-any.whl (8.5 kB)\n",
      "Downloading databricks_sdk-0.62.0-py3-none-any.whl (681 kB)\n",
      "\u001b[2K   \u001b[90m━━━━━━━━━━━━━━━━━━━━━━━━━━━━━━━━━━━━━━━━\u001b[0m \u001b[32m681.8/681.8 kB\u001b[0m \u001b[31m18.1 MB/s\u001b[0m eta \u001b[36m0:00:00\u001b[0m00:01\u001b[0m\n",
      "\u001b[?25hDownloading fastapi-0.116.1-py3-none-any.whl (95 kB)\n",
      "\u001b[2K   \u001b[90m━━━━━━━━━━━━━━━━━━━━━━━━━━━━━━━━━━━━━━━━\u001b[0m \u001b[32m95.6/95.6 kB\u001b[0m \u001b[31m10.8 MB/s\u001b[0m eta \u001b[36m0:00:00\u001b[0m\n",
      "\u001b[?25hDownloading graphql_core-3.2.6-py3-none-any.whl (203 kB)\n",
      "\u001b[2K   \u001b[90m━━━━━━━━━━━━━━━━━━━━━━━━━━━━━━━━━━━━━━━━\u001b[0m \u001b[32m203.4/203.4 kB\u001b[0m \u001b[31m11.9 MB/s\u001b[0m eta \u001b[36m0:00:00\u001b[0m\n",
      "\u001b[?25hDownloading graphql_relay-3.2.0-py3-none-any.whl (16 kB)\n",
      "Downloading itsdangerous-2.2.0-py3-none-any.whl (16 kB)\n",
      "Downloading opentelemetry_api-1.36.0-py3-none-any.whl (65 kB)\n",
      "\u001b[2K   \u001b[90m━━━━━━━━━━━━━━━━━━━━━━━━━━━━━━━━━━━━━━━━\u001b[0m \u001b[32m65.6/65.6 kB\u001b[0m \u001b[31m7.0 MB/s\u001b[0m eta \u001b[36m0:00:00\u001b[0m\n",
      "\u001b[?25hDownloading opentelemetry_sdk-1.36.0-py3-none-any.whl (119 kB)\n",
      "\u001b[2K   \u001b[90m━━━━━━━━━━━━━━━━━━━━━━━━━━━━━━━━━━━━━━━━\u001b[0m \u001b[32m120.0/120.0 kB\u001b[0m \u001b[31m11.0 MB/s\u001b[0m eta \u001b[36m0:00:00\u001b[0m\n",
      "\u001b[?25hDownloading opentelemetry_semantic_conventions-0.57b0-py3-none-any.whl (201 kB)\n",
      "\u001b[2K   \u001b[90m━━━━━━━━━━━━━━━━━━━━━━━━━━━━━━━━━━━━━━━━\u001b[0m \u001b[32m201.6/201.6 kB\u001b[0m \u001b[31m12.7 MB/s\u001b[0m eta \u001b[36m0:00:00\u001b[0m\n",
      "\u001b[?25hDownloading pydantic-2.11.7-py3-none-any.whl (444 kB)\n",
      "\u001b[2K   \u001b[90m━━━━━━━━━━━━━━━━━━━━━━━━━━━━━━━━━━━━━━━━\u001b[0m \u001b[32m444.8/444.8 kB\u001b[0m \u001b[31m14.7 MB/s\u001b[0m eta \u001b[36m0:00:00\u001b[0m\n",
      "\u001b[?25hDownloading pydantic_core-2.33.2-cp311-cp311-manylinux_2_17_x86_64.manylinux2014_x86_64.whl (2.0 MB)\n",
      "\u001b[2K   \u001b[90m━━━━━━━━━━━━━━━━━━━━━━━━━━━━━━━━━━━━━━━━\u001b[0m \u001b[32m2.0/2.0 MB\u001b[0m \u001b[31m17.8 MB/s\u001b[0m eta \u001b[36m0:00:00\u001b[0m00:01\u001b[0m00:01\u001b[0m\n",
      "\u001b[?25hDownloading sqlparse-0.5.3-py3-none-any.whl (44 kB)\n",
      "\u001b[2K   \u001b[90m━━━━━━━━━━━━━━━━━━━━━━━━━━━━━━━━━━━━━━━━\u001b[0m \u001b[32m44.4/44.4 kB\u001b[0m \u001b[31m4.6 MB/s\u001b[0m eta \u001b[36m0:00:00\u001b[0m\n",
      "\u001b[?25hDownloading typing_extensions-4.14.1-py3-none-any.whl (43 kB)\n",
      "\u001b[2K   \u001b[90m━━━━━━━━━━━━━━━━━━━━━━━━━━━━━━━━━━━━━━━━\u001b[0m \u001b[32m43.9/43.9 kB\u001b[0m \u001b[31m4.5 MB/s\u001b[0m eta \u001b[36m0:00:00\u001b[0m\n",
      "\u001b[?25hDownloading uvicorn-0.35.0-py3-none-any.whl (66 kB)\n",
      "\u001b[2K   \u001b[90m━━━━━━━━━━━━━━━━━━━━━━━━━━━━━━━━━━━━━━━━\u001b[0m \u001b[32m66.4/66.4 kB\u001b[0m \u001b[31m7.6 MB/s\u001b[0m eta \u001b[36m0:00:00\u001b[0m\n",
      "\u001b[?25hDownloading werkzeug-3.1.3-py3-none-any.whl (224 kB)\n",
      "\u001b[2K   \u001b[90m━━━━━━━━━━━━━━━━━━━━━━━━━━━━━━━━━━━━━━━━\u001b[0m \u001b[32m224.5/224.5 kB\u001b[0m \u001b[31m14.3 MB/s\u001b[0m eta \u001b[36m0:00:00\u001b[0m\n",
      "\u001b[?25hDownloading annotated_types-0.7.0-py3-none-any.whl (13 kB)\n",
      "Downloading google_auth-2.40.3-py2.py3-none-any.whl (216 kB)\n",
      "\u001b[2K   \u001b[90m━━━━━━━━━━━━━━━━━━━━━━━━━━━━━━━━━━━━━━━━\u001b[0m \u001b[32m216.1/216.1 kB\u001b[0m \u001b[31m7.0 MB/s\u001b[0m eta \u001b[36m0:00:00\u001b[0m\n",
      "\u001b[?25hDownloading cachetools-5.5.2-py3-none-any.whl (10 kB)\n",
      "Downloading h11-0.16.0-py3-none-any.whl (37 kB)\n",
      "Downloading starlette-0.47.2-py3-none-any.whl (72 kB)\n",
      "\u001b[2K   \u001b[90m━━━━━━━━━━━━━━━━━━━━━━━━━━━━━━━━━━━━━━━━\u001b[0m \u001b[32m73.0/73.0 kB\u001b[0m \u001b[31m7.2 MB/s\u001b[0m eta \u001b[36m0:00:00\u001b[0m\n",
      "\u001b[?25hDownloading typing_inspection-0.4.1-py3-none-any.whl (14 kB)\n",
      "Downloading pyasn1_modules-0.4.2-py3-none-any.whl (181 kB)\n",
      "\u001b[2K   \u001b[90m━━━━━━━━━━━━━━━━━━━━━━━━━━━━━━━━━━━━━━━━\u001b[0m \u001b[32m181.3/181.3 kB\u001b[0m \u001b[31m13.0 MB/s\u001b[0m eta \u001b[36m0:00:00\u001b[0m\n",
      "\u001b[?25hDownloading rsa-4.9.1-py3-none-any.whl (34 kB)\n",
      "Downloading pyasn1-0.6.1-py3-none-any.whl (83 kB)\n",
      "\u001b[2K   \u001b[90m━━━━━━━━━━━━━━━━━━━━━━━━━━━━━━━━━━━━━━━━\u001b[0m \u001b[32m83.1/83.1 kB\u001b[0m \u001b[31m7.7 MB/s\u001b[0m eta \u001b[36m0:00:00\u001b[0m\n",
      "\u001b[?25hInstalling collected packages: werkzeug, typing-extensions, sqlparse, pyasn1, itsdangerous, h11, gunicorn, graphql-core, cachetools, blinker, annotated-types, uvicorn, typing-inspection, starlette, rsa, pydantic-core, pyasn1-modules, opentelemetry-api, graphql-relay, Flask, docker, pydantic, opentelemetry-semantic-conventions, graphene, google-auth, opentelemetry-sdk, fastapi, databricks-sdk, mlflow-tracing, mlflow-skinny, mlflow\n",
      "  Attempting uninstall: typing-extensions\n",
      "    Found existing installation: typing_extensions 4.8.0\n",
      "    Uninstalling typing_extensions-4.8.0:\n",
      "      Successfully uninstalled typing_extensions-4.8.0\n",
      "  Attempting uninstall: blinker\n",
      "    Found existing installation: blinker 1.6.3\n",
      "    Uninstalling blinker-1.6.3:\n",
      "      Successfully uninstalled blinker-1.6.3\n",
      "Successfully installed Flask-3.1.1 annotated-types-0.7.0 blinker-1.9.0 cachetools-5.5.2 databricks-sdk-0.62.0 docker-7.1.0 fastapi-0.116.1 google-auth-2.40.3 graphene-3.4.3 graphql-core-3.2.6 graphql-relay-3.2.0 gunicorn-23.0.0 h11-0.16.0 itsdangerous-2.2.0 mlflow-3.2.0 mlflow-skinny-3.2.0 mlflow-tracing-3.2.0 opentelemetry-api-1.36.0 opentelemetry-sdk-1.36.0 opentelemetry-semantic-conventions-0.57b0 pyasn1-0.6.1 pyasn1-modules-0.4.2 pydantic-2.11.7 pydantic-core-2.33.2 rsa-4.9.1 sqlparse-0.5.3 starlette-0.47.2 typing-extensions-4.14.1 typing-inspection-0.4.1 uvicorn-0.35.0 werkzeug-3.1.3\n",
      "Note: you may need to restart the kernel to use updated packages.\n"
     ]
    }
   ],
   "source": [
    "pip install mlflow==3.2.0"
   ]
  },
  {
   "cell_type": "code",
   "execution_count": 1,
   "id": "ec49f97c-8f24-42e5-91e8-b23c051ca99b",
   "metadata": {},
   "outputs": [],
   "source": [
    "import requests\n",
    "import mysql.connector\n",
    "from mysql.connector import Error\n",
    "import os"
   ]
  },
  {
   "cell_type": "code",
   "execution_count": 2,
   "id": "fb950303-f808-4a40-b706-9f3c554ce7b0",
   "metadata": {},
   "outputs": [],
   "source": [
    "#calling data functions from file = 'mod02_data_functions.py', based on notebook md02\n",
    "from mod02_data_functions import get_mysql_cursor, list_mysql_databases_and_tables, create_covertype_table, delete_covertype_table,\\\n",
    "fetch_all_covertype_records, get_data_from_api, insert_unique_covertype_data, print_random_10_with_headers\n"
   ]
  },
  {
   "cell_type": "code",
   "execution_count": null,
   "id": "7dce28c9-6b34-43cf-9f7b-c9eb72d3e2bb",
   "metadata": {},
   "outputs": [],
   "source": [
    "#import mod03A_preprocessing"
   ]
  },
  {
   "cell_type": "code",
   "execution_count": 3,
   "id": "ee349190-dd22-43dd-a461-6da62370fabc",
   "metadata": {},
   "outputs": [],
   "source": [
    "import mod04_train_model"
   ]
  },
  {
   "cell_type": "code",
   "execution_count": null,
   "id": "879d2894-fa7d-47f7-9afc-6cc694552bae",
   "metadata": {},
   "outputs": [],
   "source": [
    "get_mysql_cursor()"
   ]
  },
  {
   "cell_type": "code",
   "execution_count": null,
   "id": "5b2c7bb0-8b02-429a-a97d-69c95520649a",
   "metadata": {},
   "outputs": [],
   "source": [
    "list_mysql_databases_and_tables()"
   ]
  },
  {
   "cell_type": "markdown",
   "id": "5bf37f26-b01a-40bc-95b6-51c76865062b",
   "metadata": {},
   "source": [
    "## Remove previous tables"
   ]
  },
  {
   "cell_type": "code",
   "execution_count": null,
   "id": "8262b412-923e-4c73-aab4-8d3b0346d87c",
   "metadata": {},
   "outputs": [],
   "source": [
    "#delete_covertype_table('raw_data')\n",
    "delete_covertype_table('clean_data')"
   ]
  },
  {
   "cell_type": "markdown",
   "id": "aab4d6de-24d8-4cbf-a632-0cdd7f2d6b3e",
   "metadata": {},
   "source": [
    "# Create Tables - Raw and Clean data"
   ]
  },
  {
   "cell_type": "code",
   "execution_count": 4,
   "id": "cc23e4a3-83d8-48ab-9fa5-27c462c7f53d",
   "metadata": {},
   "outputs": [],
   "source": [
    "raw_data_table = 'raw_data'"
   ]
  },
  {
   "cell_type": "code",
   "execution_count": 7,
   "id": "f3a6fcff-59ea-41c7-8813-52c277fcbf66",
   "metadata": {},
   "outputs": [
    {
     "name": "stdout",
     "output_type": "stream",
     "text": [
      "MySQL cursor created successfully\n",
      "Table 'raw_data' created or already exists.\n"
     ]
    }
   ],
   "source": [
    "create_covertype_table(raw_data_table)"
   ]
  },
  {
   "cell_type": "code",
   "execution_count": null,
   "id": "80ca1bd5-dc74-4770-acb3-c84fb15d348a",
   "metadata": {},
   "outputs": [],
   "source": [
    "#create_covertype_table(clean_data_table)"
   ]
  },
  {
   "cell_type": "markdown",
   "id": "2a6f69b4-6c6c-4378-adde-ce07595d8f51",
   "metadata": {},
   "source": [
    "# Get data from API, save it into raw data table"
   ]
  },
  {
   "cell_type": "code",
   "execution_count": 5,
   "id": "2d6436ee-34d7-4948-ae34-fd4be38ec782",
   "metadata": {},
   "outputs": [
    {
     "name": "stdout",
     "output_type": "stream",
     "text": [
      "Number of records retrieved on this batch: 1162\n"
     ]
    }
   ],
   "source": [
    "#Get batch data from API\n",
    "group_number = 2 #there are 10 groups in total\n",
    "batch_data = get_data_from_api(group_number)"
   ]
  },
  {
   "cell_type": "code",
   "execution_count": 8,
   "id": "79c3dca3-7667-4403-8bf5-d89ec670176b",
   "metadata": {},
   "outputs": [
    {
     "name": "stdout",
     "output_type": "stream",
     "text": [
      "MySQL cursor created successfully\n",
      "Inserted 1162 new rows into 'raw_data'.\n"
     ]
    }
   ],
   "source": [
    "#Save batch_data into raw data table\n",
    "insert_unique_covertype_data(batch_data, raw_data_table)"
   ]
  },
  {
   "cell_type": "code",
   "execution_count": null,
   "id": "6868e160-9b32-4c5d-8312-c12f0496adca",
   "metadata": {},
   "outputs": [],
   "source": [
    "#validate there is data in raw_table\n",
    "fetch_all_covertype_records(raw_data_table)"
   ]
  },
  {
   "cell_type": "markdown",
   "id": "51b92907-f70b-44e3-8ad2-1fcdc1850621",
   "metadata": {},
   "source": [
    "# Pre-processing"
   ]
  },
  {
   "cell_type": "markdown",
   "id": "c8d3a1df-4890-4245-8918-a6e2e879bcba",
   "metadata": {},
   "source": [
    "1. Data Cleaning\r\n",
    "Handle missing values: Although the dataset typically has no missing values, it's good practice to check\n",
    "\n",
    "2. Remove duplicates: Ensure no repeated rows.\n",
    "\n",
    "3. Feature Engineering\r\n",
    "Normalize distances: Scale distance-related features to reduce skew.\r\n",
    "\r\n",
    "Horizontal_Distance_To_Hydrology\r\n",
    "Vertical_Distance_To_Hydrology\r\n",
    "Horizontal_Distance_To_Roadways\r\n",
    "Horizontal_Distance_To_Fire_Points\r\n",
    "Hillshade interaction: Create a feature like average hil\n",
    "\n",
    "df['Hillshade_Avg'] = df[['Hillshade_9am', 'Hillshade_Noon', 'Hillshade_3pm']].mean(axis=1)\r\n",
    "4. Encoding Categorical Variables\r\n",
    "Wilderness_Area and Soil_Type are categorical.\r\n",
    "Use One-Hot Encoding if using tree-based models.\r\n",
    "Use Label Encoding if using linear models or neural networ\n",
    "\n",
    "5. Feature Scaling\r\n",
    "Apply StandardScaler or MinMaxScaler to numerical features:\r\n",
    "Elevation, Aspect, Slope, et\n",
    "**************************************\n",
    "6. Train-Test Split\r\n",
    "Split the dataset before modeling\n",
    "\n",
    "from sklearn.model_selection import train_test_split\r\n",
    "X = df.drop(\"Cover_Type\", axis=1)\r\n",
    "y = df[\"Cover_Type\"]\r\n",
    "X_train, X_test, y_train, y_test = train_test_split(X, y, test_size=0.2, random_state=42)\r\n",
    ":c.ks.\n",
    "lshade:."
   ]
  },
  {
   "cell_type": "code",
   "execution_count": 9,
   "id": "98d8f710-e2ad-4d4c-8488-77c2607861d6",
   "metadata": {},
   "outputs": [
    {
     "name": "stdout",
     "output_type": "stream",
     "text": [
      "Name: scikit-learn\n",
      "Version: 1.3.1\n",
      "Summary: A set of python modules for machine learning and data mining\n",
      "Home-page: http://scikit-learn.org\n",
      "Author: \n",
      "Author-email: \n",
      "License: new BSD\n",
      "Location: /opt/conda/lib/python3.11/site-packages\n",
      "Requires: joblib, numpy, scipy, threadpoolctl\n",
      "Required-by: mlflow\n"
     ]
    }
   ],
   "source": [
    "#confirm packages\n",
    "!pip show scikit-learn"
   ]
  },
  {
   "cell_type": "code",
   "execution_count": null,
   "id": "abac6036-ebc8-480a-bf50-8114e998710a",
   "metadata": {},
   "outputs": [],
   "source": [
    "#mod03A_preprocessing.main()"
   ]
  },
  {
   "cell_type": "code",
   "execution_count": null,
   "id": "e19a7ad4-12fb-4c9e-84e9-40f4318f376b",
   "metadata": {},
   "outputs": [],
   "source": [
    "records = fetch_all_covertype_records('clean_data')"
   ]
  },
  {
   "cell_type": "code",
   "execution_count": null,
   "id": "4ffd2d7e-4617-400e-9c01-a3517a07b2be",
   "metadata": {},
   "outputs": [],
   "source": [
    "print_random_10_with_headers('clean_data')"
   ]
  },
  {
   "cell_type": "code",
   "execution_count": null,
   "id": "5e668a95-5a87-4def-8519-c96b8fceb55d",
   "metadata": {},
   "outputs": [],
   "source": [
    "#headers\n",
    "\"\"\"raw_id  Elevation    Aspect     Slope  Hillshade_9am  Hillshade_Noon  Hillshade_3pm  Hillshade_Avg  Horizontal_Distance_To_Hydrology  Vertical_Distance_To_Hydrology  Horizontal_Distance_To_Roadways  Horizontal_Distance_To_Fire_Points  Wilderness_Area_Cache  Wilderness_Area_Commanche  Wilderness_Area_Neota  Wilderness_Area_Rawah  Soil_Type_C2702  Soil_Type_C2703  Soil_Type_C2704  Soil_Type_C2705  Soil_Type_C2706  Soil_Type_C2717  Soil_Type_C3501  Soil_Type_C4201  Soil_Type_C4703  Soil_Type_C4704  Soil_Type_C4744  Soil_Type_C4758  Soil_Type_C6101  Soil_Type_C6102  Soil_Type_C6731  Soil_Type_C7101  Soil_Type_C7102  Soil_Type_C7103  Soil_Type_C7201  Soil_Type_C7202  Soil_Type_C7700  Soil_Type_C7702  Soil_Type_C7709  Soil_Type_C7710  Soil_Type_C7745  Soil_Type_C7746  Soil_Type_C7755  Soil_Type_C7756  Soil_Type_C7757  Soil_Type_C7790  Soil_Type_C8703  Soil_Type_C8708  Soil_Type_C8771  Soil_Type_C8772  Soil_Type_C8776  Cover_Type\n",
    "\"\"\""
   ]
  },
  {
   "cell_type": "markdown",
   "id": "6dbb123b-cc4f-47ce-a657-a524d06bc493",
   "metadata": {},
   "source": [
    "# Training Classification models"
   ]
  },
  {
   "cell_type": "code",
   "execution_count": null,
   "id": "75e36571-5149-4fe5-b6e5-d8cee8c5ce29",
   "metadata": {},
   "outputs": [],
   "source": [
    "model = train_cover_type_model()"
   ]
  },
  {
   "cell_type": "markdown",
   "id": "d2d7f4c5-cd6b-4930-9333-0253549dcba1",
   "metadata": {},
   "source": [
    "# MLFlow - register model and experiments"
   ]
  },
  {
   "cell_type": "markdown",
   "id": "877935b6-a1a4-42ec-b431-9a622533e5a7",
   "metadata": {},
   "source": [
    "***Rule of thumb - Conections between containers***\n",
    "\n",
    "a. Inside container-to-container communication (e.g., another service in the same Docker network): use container name and container port:\n",
    "\n",
    "\"http://mlflow:5000\"\n",
    "\n",
    "b. From host or anything outside Docker: use host port (5001 in your mapping):\n",
    "\n",
    "\"http://localhost:5001\""
   ]
  },
  {
   "cell_type": "code",
   "execution_count": null,
   "id": "74411fca-919f-4116-8131-0f3ac1955181",
   "metadata": {},
   "outputs": [],
   "source": [
    "#!pip show mlflow\n",
    "%pip install --upgrade typing_extensions\n"
   ]
  },
  {
   "cell_type": "markdown",
   "id": "60bfe9ce-37b3-4fcd-b355-4dba796a5580",
   "metadata": {},
   "source": [
    "***IMPORTANT: install boto3 in jupyter***\n",
    "\n",
    "Even if your MLflow container has boto3, the client doing mlflow.sklearn.log_model() must also have it, because MLflow uploads artifacts directly from the client to S3."
   ]
  },
  {
   "cell_type": "code",
   "execution_count": null,
   "id": "92da5d97-9740-4a3c-90b1-22c52f06051a",
   "metadata": {},
   "outputs": [],
   "source": [
    "#boto3 version in mlflow container: boto3: 1.40.2\n",
    "#installing the same version here in jupyter\n",
    "#%pip install boto3==1.40.2\n"
   ]
  },
  {
   "cell_type": "code",
   "execution_count": 11,
   "id": "6f1e5e2b-3f0c-4f6f-91c4-946aaba691a8",
   "metadata": {},
   "outputs": [],
   "source": [
    "import mlflow\n",
    "import mlflow.sklearn\n",
    "import os\n",
    "from sklearn.model_selection import train_test_split\n",
    "from sklearn.datasets import load_diabetes\n",
    "from sklearn.ensemble import RandomForestRegressor\n",
    "from sklearn.metrics import mean_squared_error\n",
    "\n",
    "import boto3\n",
    "\n",
    "AWS_ACCESS_KEY_ID = os.getenv(\"AWS_ACCESS_KEY_ID\")\n",
    "AWS_SECRET_ACCESS_KEY = os.getenv(\"AWS_SECRET_ACCESS_KEY\")\n"
   ]
  },
  {
   "cell_type": "code",
   "execution_count": null,
   "id": "d08a305d-07bf-4252-883d-7375c754b50b",
   "metadata": {},
   "outputs": [],
   "source": [
    "print(\"boto3 version:\", boto3.__version__)"
   ]
  },
  {
   "cell_type": "code",
   "execution_count": 7,
   "id": "e4f3dd1c-d29c-4796-bd7f-d0bef9f6577e",
   "metadata": {},
   "outputs": [
    {
     "name": "stdout",
     "output_type": "stream",
     "text": [
      "\u001b[33mWARNING: Package(s) not found: mlflow\u001b[0m\u001b[33m\n",
      "\u001b[0mNote: you may need to restart the kernel to use updated packages.\n"
     ]
    }
   ],
   "source": [
    "pip show mlflow"
   ]
  },
  {
   "cell_type": "markdown",
   "id": "bfa7ae0b-9fc1-405f-9163-86b1605bfe88",
   "metadata": {},
   "source": [
    "## Experiment 1"
   ]
  },
  {
   "cell_type": "code",
   "execution_count": 13,
   "id": "757efe24-a0e3-4e24-9dd0-7a388eccacd7",
   "metadata": {},
   "outputs": [
    {
     "name": "stderr",
     "output_type": "stream",
     "text": [
      "2025/08/09 00:42:02 WARNING mlflow.models.model: `artifact_path` is deprecated. Please use `name` instead.\n",
      "\u001b[31m2025/08/09 00:42:04 WARNING mlflow.models.model: Model logged without a signature and input example. Please set `input_example` parameter when logging the model to auto infer the model signature.\u001b[0m\n"
     ]
    },
    {
     "name": "stdout",
     "output_type": "stream",
     "text": [
      "🏃 View run logged_artifacts at: http://mlflow:5000/#/experiments/1/runs/81828136660b4adb8d7b450a0da953ee\n",
      "🧪 View experiment at: http://mlflow:5000/#/experiments/1\n"
     ]
    }
   ],
   "source": [
    "\n",
    "# loads the diabetes dataset\n",
    "db = load_diabetes()\n",
    "X_train, X_test, y_train, y_test = train_test_split(db.data, db.target)\n",
    "\n",
    "# run description (just metadata)\n",
    "desc = \"the simplest possible example\"\n",
    "\n",
    "\n",
    "# Connect to MLflow tracking server defined in docker-compose file for mlflow service\n",
    "\n",
    "mlflow.set_tracking_uri(\"http://mlflow:5000\") # docker-compose, mlflow service, ports: 5001:5000--> host:container\n",
    "mlflow.set_experiment(\"mlflow_tracking_examples_class\")\n",
    "\n",
    "with mlflow.start_run(run_name=\"logged_artifacts\") as run:\n",
    "    params = {\"n_estimators\":50, \"max_depth\":6, \"max_features\":3}\n",
    "\n",
    "    rf = RandomForestRegressor(**params)\n",
    "    rf.fit(X_train, y_train)\n",
    "\n",
    "    mlflow.log_params(params)\n",
    "    mlflow.sklearn.log_model(\n",
    "      sk_model=rf,\n",
    "      artifact_path=\"random_forest_regressor\"\n",
    "    )"
   ]
  },
  {
   "cell_type": "markdown",
   "id": "773ed3d3-d93e-406c-a193-2620a7f3561b",
   "metadata": {},
   "source": [
    "## Experiment 2"
   ]
  },
  {
   "cell_type": "code",
   "execution_count": null,
   "id": "a3381121-d511-4796-acf9-ab93e7cf8aae",
   "metadata": {},
   "outputs": [],
   "source": [
    "#initial batch_data from group 2\n",
    "mod04_train_model.main()"
   ]
  },
  {
   "cell_type": "markdown",
   "id": "a17bf580-493d-4abb-b58f-b73b2e386977",
   "metadata": {},
   "source": [
    "## Experiment 3 - adding new batch_data"
   ]
  },
  {
   "cell_type": "code",
   "execution_count": null,
   "id": "08b4766d-f3ee-4169-835b-e0100e478d08",
   "metadata": {},
   "outputs": [],
   "source": [
    "#Get batch data from API\n",
    "group_number = 2 #there are 10 groups in total\n",
    "batch_data = get_data_from_api(group_number)"
   ]
  },
  {
   "cell_type": "code",
   "execution_count": null,
   "id": "f05b8027-5de6-44ca-97cf-ca072b92cae9",
   "metadata": {},
   "outputs": [],
   "source": [
    "#Save batch_data into raw data table\n",
    "insert_unique_covertype_data(batch_data, raw_data_table)"
   ]
  },
  {
   "cell_type": "code",
   "execution_count": null,
   "id": "5dc62519-5fc2-4079-b274-5fc29cdf537b",
   "metadata": {},
   "outputs": [],
   "source": [
    "#validate there is data in raw_table\n",
    "fetch_all_covertype_records(raw_data_table)"
   ]
  },
  {
   "cell_type": "code",
   "execution_count": null,
   "id": "fe1bf18d-7630-4237-9625-8674a795f5f3",
   "metadata": {},
   "outputs": [],
   "source": [
    "#PRE-PROCESSING - applied to new batch_data\n",
    "#this initial version is breaking the schema due to one/hot/encoder\n",
    "#mod03A_preprocessing.main()"
   ]
  },
  {
   "cell_type": "code",
   "execution_count": 14,
   "id": "6b5afe80-4d92-4cac-bcb4-9d40a6f09b6b",
   "metadata": {},
   "outputs": [],
   "source": [
    "#importing v2 of preprocessing module\n",
    "#this was refactored to skip one hot encoding, which was breaking the schema\n",
    "import mod03_preprocessing_v2"
   ]
  },
  {
   "cell_type": "code",
   "execution_count": 15,
   "id": "621ae00a-7e49-4928-a4f1-fe6bde699045",
   "metadata": {},
   "outputs": [
    {
     "name": "stdout",
     "output_type": "stream",
     "text": [
      "MySQL cursor created successfully\n",
      "Table 'clean_data' deleted if it existed.\n"
     ]
    }
   ],
   "source": [
    "#clearing old data\n",
    "delete_covertype_table('clean_data')"
   ]
  },
  {
   "cell_type": "code",
   "execution_count": 16,
   "id": "80025592-8514-46e8-babf-9018cc0cbcce",
   "metadata": {},
   "outputs": [
    {
     "name": "stdout",
     "output_type": "stream",
     "text": [
      "MySQL cursor created successfully\n"
     ]
    },
    {
     "name": "stderr",
     "output_type": "stream",
     "text": [
      "/home/jovyan/work/mod03_preprocessing_v2.py:51: UserWarning: pandas only supports SQLAlchemy connectable (engine/connection) or database string URI or sqlite3 DBAPI2 connection. Other DBAPI2 objects are not tested. Please consider using SQLAlchemy.\n",
      "  df = pd.read_sql(query, conn)\n"
     ]
    },
    {
     "name": "stdout",
     "output_type": "stream",
     "text": [
      "MySQL cursor created successfully\n",
      "Inserted 1162 new processed rows into 'clean_data'.\n"
     ]
    }
   ],
   "source": [
    "#preprocessing with new version\n",
    "\n",
    "mod03_preprocessing_v2.main()"
   ]
  },
  {
   "cell_type": "code",
   "execution_count": 17,
   "id": "fc24d015-3b63-4844-95c5-0b159317177d",
   "metadata": {},
   "outputs": [
    {
     "name": "stderr",
     "output_type": "stream",
     "text": [
      "2025/08/09 00:45:38 INFO mlflow.tracking.fluent: Experiment with name 'cover_type_experiment' does not exist. Creating a new experiment.\n"
     ]
    },
    {
     "name": "stdout",
     "output_type": "stream",
     "text": [
      "MySQL cursor created successfully\n"
     ]
    },
    {
     "name": "stderr",
     "output_type": "stream",
     "text": [
      "2025/08/09 00:45:39 WARNING mlflow.models.model: `artifact_path` is deprecated. Please use `name` instead.\n"
     ]
    },
    {
     "name": "stdout",
     "output_type": "stream",
     "text": [
      "Accuracy: 0.7553648068669528\n",
      "\n",
      "Classification Report:\n",
      "               precision    recall  f1-score   support\n",
      "\n",
      "           0       0.78      0.77      0.77        82\n",
      "           1       0.79      0.81      0.80       113\n",
      "           2       0.58      0.92      0.71        12\n",
      "           4       0.50      0.17      0.25         6\n",
      "           5       0.33      0.11      0.17         9\n",
      "           6       0.73      0.73      0.73        11\n",
      "\n",
      "    accuracy                           0.76       233\n",
      "   macro avg       0.62      0.58      0.57       233\n",
      "weighted avg       0.74      0.76      0.74       233\n",
      "\n"
     ]
    },
    {
     "name": "stderr",
     "output_type": "stream",
     "text": [
      "\u001b[31m2025/08/09 00:45:41 WARNING mlflow.models.model: Model logged without a signature and input example. Please set `input_example` parameter when logging the model to auto infer the model signature.\u001b[0m\n"
     ]
    },
    {
     "name": "stdout",
     "output_type": "stream",
     "text": [
      "MLflow Run ID: d9a7f084f5974bc48079e01948e6daa6\n",
      "🏃 View run RandomForest_CoverType at: http://mlflow:5000/#/experiments/2/runs/d9a7f084f5974bc48079e01948e6daa6\n",
      "🧪 View experiment at: http://mlflow:5000/#/experiments/2\n"
     ]
    }
   ],
   "source": [
    "#Running experiment with new data\n",
    "mod04_train_model.main()"
   ]
  },
  {
   "cell_type": "code",
   "execution_count": 18,
   "id": "4f7ea70e-091e-48c0-93e2-45598fe51c26",
   "metadata": {},
   "outputs": [],
   "source": [
    "!pip freeze > requirements.txt"
   ]
  },
  {
   "cell_type": "code",
   "execution_count": null,
   "id": "27196c9a-56e1-4545-8be2-daad4d8e795b",
   "metadata": {},
   "outputs": [],
   "source": []
  }
 ],
 "metadata": {
  "kernelspec": {
   "display_name": "Python 3 (ipykernel)",
   "language": "python",
   "name": "python3"
  },
  "language_info": {
   "codemirror_mode": {
    "name": "ipython",
    "version": 3
   },
   "file_extension": ".py",
   "mimetype": "text/x-python",
   "name": "python",
   "nbconvert_exporter": "python",
   "pygments_lexer": "ipython3",
   "version": "3.11.6"
  }
 },
 "nbformat": 4,
 "nbformat_minor": 5
}
