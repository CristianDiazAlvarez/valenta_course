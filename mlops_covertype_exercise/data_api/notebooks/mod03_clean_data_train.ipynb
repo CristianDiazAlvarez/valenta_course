{
 "cells": [
  {
   "cell_type": "code",
   "execution_count": 1,
   "id": "ec49f97c-8f24-42e5-91e8-b23c051ca99b",
   "metadata": {},
   "outputs": [],
   "source": [
    "import requests\n",
    "import mysql.connector\n",
    "from mysql.connector import Error\n",
    "import os"
   ]
  },
  {
   "cell_type": "code",
   "execution_count": 2,
   "id": "fb950303-f808-4a40-b706-9f3c554ce7b0",
   "metadata": {},
   "outputs": [],
   "source": [
    "#calling data functions from file = 'mod02_data_functions.py', based on notebook md02\n",
    "from mod02_data_functions import get_mysql_cursor, list_mysql_databases_and_tables, create_covertype_table, delete_covertype_table,\\\n",
    "fetch_all_covertype_records, get_data_from_api, insert_unique_covertype_data\n"
   ]
  },
  {
   "cell_type": "code",
   "execution_count": 3,
   "id": "879d2894-fa7d-47f7-9afc-6cc694552bae",
   "metadata": {},
   "outputs": [
    {
     "name": "stdout",
     "output_type": "stream",
     "text": [
      "MySQL cursor created successfully\n"
     ]
    },
    {
     "data": {
      "text/plain": [
       "(<mysql.connector.cursor_cext.CMySQLCursor at 0x7f46ea5bba50>,\n",
       " <mysql.connector.connection_cext.CMySQLConnection at 0x7f46e8615ad0>)"
      ]
     },
     "execution_count": 3,
     "metadata": {},
     "output_type": "execute_result"
    }
   ],
   "source": [
    "get_mysql_cursor()"
   ]
  },
  {
   "cell_type": "markdown",
   "id": "5bf37f26-b01a-40bc-95b6-51c76865062b",
   "metadata": {},
   "source": [
    "## Remove previous tables"
   ]
  },
  {
   "cell_type": "code",
   "execution_count": 4,
   "id": "8262b412-923e-4c73-aab4-8d3b0346d87c",
   "metadata": {},
   "outputs": [
    {
     "name": "stdout",
     "output_type": "stream",
     "text": [
      "MySQL cursor created successfully\n",
      "Table 'covertype_data' deleted if it existed.\n"
     ]
    }
   ],
   "source": [
    "delete_covertype_table('covertype_data')"
   ]
  },
  {
   "cell_type": "markdown",
   "id": "aab4d6de-24d8-4cbf-a632-0cdd7f2d6b3e",
   "metadata": {},
   "source": [
    "# Create Tables - Raw and Clean data"
   ]
  },
  {
   "cell_type": "code",
   "execution_count": 5,
   "id": "cc23e4a3-83d8-48ab-9fa5-27c462c7f53d",
   "metadata": {},
   "outputs": [],
   "source": [
    "raw_data_table = 'raw_data'\n",
    "clean_data_table = 'clean_data'"
   ]
  },
  {
   "cell_type": "code",
   "execution_count": 6,
   "id": "f3a6fcff-59ea-41c7-8813-52c277fcbf66",
   "metadata": {},
   "outputs": [
    {
     "name": "stdout",
     "output_type": "stream",
     "text": [
      "MySQL cursor created successfully\n",
      "Table 'raw_data' created or already exists.\n"
     ]
    }
   ],
   "source": [
    "create_covertype_table(raw_data_table)"
   ]
  },
  {
   "cell_type": "code",
   "execution_count": 7,
   "id": "80ca1bd5-dc74-4770-acb3-c84fb15d348a",
   "metadata": {},
   "outputs": [
    {
     "name": "stdout",
     "output_type": "stream",
     "text": [
      "MySQL cursor created successfully\n",
      "Table 'clean_data' created or already exists.\n"
     ]
    }
   ],
   "source": [
    "create_covertype_table(clean_data_table)"
   ]
  },
  {
   "cell_type": "markdown",
   "id": "2a6f69b4-6c6c-4378-adde-ce07595d8f51",
   "metadata": {},
   "source": [
    "# Get data from API, save it into raw data table"
   ]
  },
  {
   "cell_type": "code",
   "execution_count": 8,
   "id": "2d6436ee-34d7-4948-ae34-fd4be38ec782",
   "metadata": {},
   "outputs": [
    {
     "name": "stdout",
     "output_type": "stream",
     "text": [
      "Number of records retrieved on this batch: 1162\n"
     ]
    }
   ],
   "source": [
    "#Get batch data from API\n",
    "group_number = 1 #there are 10 groups in total\n",
    "batch_data = get_data_from_api(group_number)"
   ]
  },
  {
   "cell_type": "code",
   "execution_count": 9,
   "id": "79c3dca3-7667-4403-8bf5-d89ec670176b",
   "metadata": {},
   "outputs": [
    {
     "name": "stdout",
     "output_type": "stream",
     "text": [
      "MySQL cursor created successfully\n",
      "Inserted 1162 new rows into 'raw_data'.\n"
     ]
    }
   ],
   "source": [
    "#Save batch_data into raw data table\n",
    "insert_unique_covertype_data(batch_data, raw_data_table)"
   ]
  },
  {
   "cell_type": "markdown",
   "id": "51b92907-f70b-44e3-8ad2-1fcdc1850621",
   "metadata": {},
   "source": [
    "# Pre-processing"
   ]
  },
  {
   "cell_type": "markdown",
   "id": "c8d3a1df-4890-4245-8918-a6e2e879bcba",
   "metadata": {},
   "source": [
    "1. Data Cleaning\r\n",
    "Handle missing values: Although the dataset typically has no missing values, it's good practice to check\n",
    "\n",
    "2. Remove duplicates: Ensure no repeated rows.\n",
    "\n",
    "3. Feature Engineering\r\n",
    "Normalize distances: Scale distance-related features to reduce skew.\r\n",
    "\r\n",
    "Horizontal_Distance_To_Hydrology\r\n",
    "Vertical_Distance_To_Hydrology\r\n",
    "Horizontal_Distance_To_Roadways\r\n",
    "Horizontal_Distance_To_Fire_Points\r\n",
    "Hillshade interaction: Create a feature like average hil\n",
    "\n",
    "df['Hillshade_Avg'] = df[['Hillshade_9am', 'Hillshade_Noon', 'Hillshade_3pm']].mean(axis=1)\r\n",
    "4. Encoding Categorical Variables\r\n",
    "Wilderness_Area and Soil_Type are categorical.\r\n",
    "Use One-Hot Encoding if using tree-based models.\r\n",
    "Use Label Encoding if using linear models or neural networ\n",
    "\n",
    "5. Feature Scaling\r\n",
    "Apply StandardScaler or MinMaxScaler to numerical features:\r\n",
    "Elevation, Aspect, Slope, et\n",
    "**************************************\n",
    "6. Train-Test Split\r\n",
    "Split the dataset before modeling\n",
    "\n",
    "from sklearn.model_selection import train_test_split\r\n",
    "X = df.drop(\"Cover_Type\", axis=1)\r\n",
    "y = df[\"Cover_Type\"]\r\n",
    "X_train, X_test, y_train, y_test = train_test_split(X, y, test_size=0.2, random_state=42)\r\n",
    ":c.ks.\n",
    "lshade:."
   ]
  },
  {
   "cell_type": "code",
   "execution_count": null,
   "id": "98d8f710-e2ad-4d4c-8488-77c2607861d6",
   "metadata": {},
   "outputs": [],
   "source": []
  }
 ],
 "metadata": {
  "kernelspec": {
   "display_name": "Python 3 (ipykernel)",
   "language": "python",
   "name": "python3"
  },
  "language_info": {
   "codemirror_mode": {
    "name": "ipython",
    "version": 3
   },
   "file_extension": ".py",
   "mimetype": "text/x-python",
   "name": "python",
   "nbconvert_exporter": "python",
   "pygments_lexer": "ipython3",
   "version": "3.11.6"
  }
 },
 "nbformat": 4,
 "nbformat_minor": 5
}
