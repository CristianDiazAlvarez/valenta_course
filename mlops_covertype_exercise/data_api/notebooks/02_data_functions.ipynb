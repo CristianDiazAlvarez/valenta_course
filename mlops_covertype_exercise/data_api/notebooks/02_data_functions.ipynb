{
 "cells": [
  {
   "cell_type": "markdown",
   "id": "3846bc36-861d-401d-a18b-4579df94388f",
   "metadata": {},
   "source": [
    "# Initialize"
   ]
  },
  {
   "cell_type": "code",
   "execution_count": 1,
   "id": "d4e29384-698e-42c6-9164-93eb883b5b9b",
   "metadata": {},
   "outputs": [],
   "source": [
    "import requests\n",
    "import mysql.connector\n",
    "import os"
   ]
  },
  {
   "cell_type": "code",
   "execution_count": 2,
   "id": "e79e3cda-0dec-4112-957d-98039ef76e96",
   "metadata": {},
   "outputs": [
    {
     "name": "stdout",
     "output_type": "stream",
     "text": [
      "{'status': 'OK'}\n"
     ]
    }
   ],
   "source": [
    "#API HEALTH CHECK: connecting to api - internal port 80 (from docker)\n",
    "response = requests.get(\"http://api:80/health\")\n",
    "print(response.json())"
   ]
  },
  {
   "cell_type": "code",
   "execution_count": 3,
   "id": "70968239-215d-4b1f-a9ab-7cdea992eb4d",
   "metadata": {},
   "outputs": [],
   "source": [
    "# Columns from your dataset\n",
    "columns = [\n",
    "    \"Elevation\", \"Aspect\", \"Slope\", \"Horizontal_Distance_To_Hydrology\",\n",
    "    \"Vertical_Distance_To_Hydrology\", \"Horizontal_Distance_To_Roadways\",\n",
    "    \"Hillshade_9am\", \"Hillshade_Noon\", \"Hillshade_3pm\",\n",
    "    \"Horizontal_Distance_To_Fire_Points\", \"Wilderness_Area\",\n",
    "    \"Soil_Type\", \"Cover_Type\"\n",
    "]"
   ]
  },
  {
   "cell_type": "code",
   "execution_count": null,
   "id": "83cbd850-c067-4884-9694-ff738a54d66d",
   "metadata": {},
   "outputs": [],
   "source": [
    "# The FastAPI service is named 'api' in docker-compose and runs on port 80\n",
    "url = \"http://api:80/data\"\n",
    "params = {\"group_number\": 10}\n",
    "\n",
    "response = requests.get(url, params=params)\n",
    "print(response.json())"
   ]
  },
  {
   "cell_type": "markdown",
   "id": "d036e53b-0eb2-4bfd-897e-cf33bb4ac668",
   "metadata": {},
   "source": [
    "# Database Functions"
   ]
  },
  {
   "cell_type": "markdown",
   "id": "e5bbab21-1f91-4f4f-aeeb-5883ccb40311",
   "metadata": {},
   "source": [
    "## Create cursor"
   ]
  },
  {
   "cell_type": "code",
   "execution_count": 5,
   "id": "942d80fb-4000-4fb2-8298-fc3d7f8e20b1",
   "metadata": {},
   "outputs": [],
   "source": [
    "def get_mysql_cursor():\n",
    "    \"\"\"\n",
    "    Establishes a MySQL connection using environment variables and returns the cursor.\n",
    "    \"\"\"\n",
    "    host = os.getenv(\"MYSQL_HOST\")\n",
    "    port = int(os.getenv(\"MYSQL_PORT\"))\n",
    "    user = os.getenv(\"MYSQL_USER\")\n",
    "    password = os.getenv(\"MYSQL_PASSWORD\")\n",
    "    database = os.getenv(\"MYSQL_DATABASE\")\n",
    "\n",
    "    conn = mysql.connector.connect(\n",
    "        host=host,\n",
    "        port=port,\n",
    "        user=user,\n",
    "        password=password,\n",
    "        database=database\n",
    "    )\n",
    "    #returns cursor and connection\n",
    "    return conn.cursor(), conn\n"
   ]
  },
  {
   "cell_type": "markdown",
   "id": "6ebba11f-4f10-4763-9cab-798cdabd058e",
   "metadata": {},
   "source": [
    "## Create Table"
   ]
  },
  {
   "cell_type": "markdown",
   "id": "0fc34280-8716-4d9a-8afb-cc8716be2e7c",
   "metadata": {},
   "source": [
    "### TODO: add parameter 'table_name' to create 2 tables: raw and clean data"
   ]
  },
  {
   "cell_type": "code",
   "execution_count": null,
   "id": "1fb7e0ba-84fc-4f6b-9581-bee71df3a21e",
   "metadata": {},
   "outputs": [],
   "source": []
  },
  {
   "cell_type": "code",
   "execution_count": 24,
   "id": "755b8518-84b6-45aa-91c6-c368fec2f4dc",
   "metadata": {},
   "outputs": [],
   "source": [
    "def create_covertype_table():\n",
    "    \"\"\"\n",
    "    Creates the covertype_data table in the specified MySQL database if it does not exist.\n",
    "    Credentials and connection info are read from environment variables.\n",
    "    \"\"\"\n",
    "\n",
    "    cursor, conn = get_mysql_cursor()\n",
    "    \n",
    "    create_table_sql = \"\"\"\n",
    "    CREATE TABLE IF NOT EXISTS covertype_data (\n",
    "        id INT AUTO_INCREMENT PRIMARY KEY,\n",
    "        Elevation INT,\n",
    "        Aspect INT,\n",
    "        Slope INT,\n",
    "        Horizontal_Distance_To_Hydrology INT,\n",
    "        Vertical_Distance_To_Hydrology INT,\n",
    "        Horizontal_Distance_To_Roadways INT,\n",
    "        Hillshade_9am INT,\n",
    "        Hillshade_Noon INT,\n",
    "        Hillshade_3pm INT,\n",
    "        Horizontal_Distance_To_Fire_Points INT,\n",
    "        Wilderness_Area VARCHAR(20),\n",
    "        Soil_Type VARCHAR(20),\n",
    "        Cover_Type INT\n",
    "    );\n",
    "    \"\"\"\n",
    "    try:\n",
    "        cursor.execute(create_table_sql)\n",
    "        conn.commit()\n",
    "        print(\"Table 'covertype_data' created or already exists.\")\n",
    "    \n",
    "    finally:\n",
    "        cursor.close()\n",
    "        conn.close()\n",
    "\n"
   ]
  },
  {
   "cell_type": "code",
   "execution_count": 25,
   "id": "1fc8d603-03cc-41ef-956e-e516924e222f",
   "metadata": {},
   "outputs": [
    {
     "name": "stdout",
     "output_type": "stream",
     "text": [
      "Table 'covertype_data' created or already exists.\n"
     ]
    }
   ],
   "source": [
    "# Example usage:\n",
    "create_covertype_table()"
   ]
  },
  {
   "cell_type": "markdown",
   "id": "cdd663cf-34c2-447e-9a3a-efe58b24fc45",
   "metadata": {},
   "source": [
    "## Delete table"
   ]
  },
  {
   "cell_type": "code",
   "execution_count": 11,
   "id": "3b756bf2-5f4a-4d97-b771-dad77608b81e",
   "metadata": {},
   "outputs": [],
   "source": [
    "def delete_covertype_table():\n",
    "    \"\"\"\n",
    "    Deletes the covertype_data table from the specified MySQL database if it exists.\n",
    "    Credentials and connection info are read from environment variables.\n",
    "    \"\"\"\n",
    "    cursor, conn = get_mysql_cursor()\n",
    "\n",
    "    delete_table_sql = \"DROP TABLE IF EXISTS covertype_data;\"\n",
    "\n",
    "    try:\n",
    "        cursor.execute(delete_table_sql)\n",
    "        conn.commit()\n",
    "        print(\"Table 'covertype_data' deleted if it existed.\")\n",
    "    \n",
    "    finally:\n",
    "        cursor.close()\n",
    "        conn.close()\n"
   ]
  },
  {
   "cell_type": "code",
   "execution_count": 23,
   "id": "8b142020-737b-4a11-9314-4e0ae1b58869",
   "metadata": {},
   "outputs": [
    {
     "name": "stdout",
     "output_type": "stream",
     "text": [
      "Table 'covertype_data' deleted if it existed.\n"
     ]
    }
   ],
   "source": [
    "delete_covertype_table()"
   ]
  },
  {
   "cell_type": "markdown",
   "id": "d95298e5-a203-4e37-808e-4eda6fab32ae",
   "metadata": {},
   "source": [
    "## Get data - Insert data"
   ]
  },
  {
   "cell_type": "code",
   "execution_count": 15,
   "id": "9840c1b6-82b8-452d-ba69-f2db9687f751",
   "metadata": {},
   "outputs": [],
   "source": [
    "def fetch_and_insert_covertype_data(group_number=1):\n",
    "    # Fetch data from API\n",
    "    url = \"http://api:80/data\"\n",
    "    params = {\"group_number\": group_number}\n",
    "    response = requests.get(url, params=params)\n",
    "    response.raise_for_status()\n",
    "    data = response.json()[\"data\"]  # Adjust if your API response structure is different\n",
    "\n",
    "    cursor, conn = get_mysql_cursor()\n",
    "\n",
    "    # Insert data into covertype_data table\n",
    "    insert_sql = \"\"\"\n",
    "        INSERT INTO covertype_data (\n",
    "            Elevation, Aspect, Slope, Horizontal_Distance_To_Hydrology,\n",
    "            Vertical_Distance_To_Hydrology, Horizontal_Distance_To_Roadways,\n",
    "            Hillshade_9am, Hillshade_Noon, Hillshade_3pm,\n",
    "            Horizontal_Distance_To_Fire_Points, Wilderness_Area,\n",
    "            Soil_Type, Cover_Type\n",
    "        ) VALUES (\n",
    "            %s, %s, %s, %s, %s, %s, %s, %s, %s, %s, %s, %s, %s\n",
    "        )\n",
    "    \"\"\"\n",
    "    try:\n",
    "        for row in data:\n",
    "            cursor.execute(insert_sql, tuple(row))\n",
    "        conn.commit()\n",
    "        print(f\"Inserted {len(data)} rows into covertype_data.\")\n",
    "    finally:\n",
    "        cursor.close()\n",
    "        conn.close()\n"
   ]
  },
  {
   "cell_type": "code",
   "execution_count": 16,
   "id": "77ec6d57-88b8-40e7-9f66-1e5971470d63",
   "metadata": {},
   "outputs": [
    {
     "name": "stdout",
     "output_type": "stream",
     "text": [
      "Inserted 1162 rows into covertype_data.\n"
     ]
    }
   ],
   "source": [
    "# Example usage:\n",
    "fetch_and_insert_covertype_data(group_number=1)"
   ]
  },
  {
   "cell_type": "markdown",
   "id": "8b31292f-e8bd-4428-a974-71e5998dee90",
   "metadata": {},
   "source": [
    "## Read Table - fecth 5 random registers"
   ]
  },
  {
   "cell_type": "code",
   "execution_count": 17,
   "id": "e1437cc0-b9dc-4d31-828c-f4111024f12b",
   "metadata": {},
   "outputs": [],
   "source": [
    "def fetch_random_5_covertype_records():\n",
    "    \"\"\"\n",
    "    Fetches 5 random records from the covertype_data table.\n",
    "    Returns the result as a list of tuples.\n",
    "    \"\"\"\n",
    "    cursor, conn = get_mysql_cursor()\n",
    "\n",
    "    select_sql = \"\"\"\n",
    "        SELECT * FROM covertype_data\n",
    "        ORDER BY RAND()\n",
    "        LIMIT 5;\n",
    "    \"\"\"\n",
    "\n",
    "    try:\n",
    "        cursor.execute(select_sql)\n",
    "        results = cursor.fetchall()\n",
    "        for row in results:\n",
    "            print(row)\n",
    "        return results\n",
    "    finally:\n",
    "        cursor.close()\n",
    "        conn.close()\n"
   ]
  },
  {
   "cell_type": "code",
   "execution_count": null,
   "id": "36479f14-c5cc-4c94-8d6f-4db2648df2cd",
   "metadata": {},
   "outputs": [],
   "source": [
    "fetch_random_5_covertype_records()"
   ]
  },
  {
   "cell_type": "markdown",
   "id": "c017a5cd-d5fa-458b-8428-c4bcf8266fd0",
   "metadata": {},
   "source": [
    "## Read Table - get all data"
   ]
  },
  {
   "cell_type": "code",
   "execution_count": 20,
   "id": "06fec5ac-8c59-4f6c-9113-0342e1d61a0b",
   "metadata": {},
   "outputs": [],
   "source": [
    "def fetch_all_covertype_records():\n",
    "    \"\"\"\n",
    "    Fetches all records from the covertype_data table and prints the total number of records.\n",
    "    Returns the result as a list of tuples.\n",
    "    \"\"\"\n",
    "    cursor, conn = get_mysql_cursor()\n",
    "\n",
    "    select_sql = \"SELECT * FROM covertype_data;\"\n",
    "\n",
    "    try:\n",
    "        cursor.execute(select_sql)\n",
    "        results = cursor.fetchall()\n",
    "        print(f\"Total records in covertype_data: {len(results)}\")\n",
    "        #for row in results:\n",
    "        #    print(row)\n",
    "        return results\n",
    "    finally:\n",
    "        cursor.close()\n",
    "        conn.close()\n"
   ]
  },
  {
   "cell_type": "code",
   "execution_count": null,
   "id": "670d6427-9299-4891-b151-f5d2c797bae7",
   "metadata": {},
   "outputs": [],
   "source": [
    "fetch_all_covertype_records()"
   ]
  },
  {
   "cell_type": "markdown",
   "id": "0bb4435b-2cd9-44cc-ab56-68e3b5d9d409",
   "metadata": {},
   "source": [
    "# API Functions"
   ]
  },
  {
   "cell_type": "markdown",
   "id": "d9d8b01f-8e26-42e8-8c57-e73b6c6b9b05",
   "metadata": {},
   "source": [
    "## Get batch from API"
   ]
  },
  {
   "cell_type": "code",
   "execution_count": 30,
   "id": "3ee45f03-5f0e-4a4c-98ec-d94a2b502a54",
   "metadata": {},
   "outputs": [],
   "source": [
    "def get_data_from_api(group_number):\n",
    "    \"\"\"\n",
    "    Retrieves data from the API for the given group number.\n",
    "    Raises an exception if the API indicates that there is no more data.\n",
    "    \"\"\"\n",
    "    url = \"http://api:80/data\"\n",
    "    params = {\"group_number\": group_number}\n",
    "\n",
    "    try:\n",
    "        response = requests.get(url, params=params)\n",
    "        response.raise_for_status()\n",
    "        data = response.json().get(\"data\", [])\n",
    "        print(f\"Number of records retrieved on this batch: {len(data)}\")\n",
    "        if not data:\n",
    "            raise ValueError(\"No more data available from the API.\")\n",
    "\n",
    "        return data\n",
    "\n",
    "    except requests.exceptions.RequestException as e:\n",
    "        print(f\"API request failed: {e}\")\n",
    "        raise\n",
    "\n",
    "    except ValueError as ve:\n",
    "        print(f\"API response error: {ve}\")\n",
    "        raise\n"
   ]
  },
  {
   "cell_type": "code",
   "execution_count": 31,
   "id": "0d1c0aae-622f-4c53-850d-aa580ac6866f",
   "metadata": {},
   "outputs": [
    {
     "name": "stdout",
     "output_type": "stream",
     "text": [
      "Number of records retrieved on this batch: 1162\n"
     ]
    }
   ],
   "source": [
    "group_number = 1 #there are 10 groups in total\n",
    "batch_data = get_data_from_api(group_number)"
   ]
  },
  {
   "cell_type": "markdown",
   "id": "e8cf96c0-2613-445d-b6e4-7b7eea968c97",
   "metadata": {},
   "source": [
    "## Insert batch into Table (with data validation - duplicates)"
   ]
  },
  {
   "cell_type": "markdown",
   "id": "5fd8373b-7b96-4c0e-9435-aa13362fa84f",
   "metadata": {},
   "source": [
    "### TODO: include parameter 'table_name' to save raw data in 'raw_data_table'"
   ]
  },
  {
   "cell_type": "code",
   "execution_count": 32,
   "id": "ae27ae09-546e-43e0-af82-cc181ce1742a",
   "metadata": {},
   "outputs": [],
   "source": [
    "def insert_unique_covertype_data(data):\n",
    "    \"\"\"\n",
    "    Inserts only new records into the covertype_data table.\n",
    "    Checks for duplicates before inserting.\n",
    "    \"\"\"\n",
    "    cursor, conn = get_mysql_cursor()\n",
    "\n",
    "    # Define a query to check for existing records\n",
    "    check_sql = \"\"\"\n",
    "        SELECT COUNT(*) FROM covertype_data\n",
    "        WHERE Elevation = %s AND Aspect = %s AND Slope = %s AND\n",
    "              Horizontal_Distance_To_Hydrology = %s AND Vertical_Distance_To_Hydrology = %s AND\n",
    "              Horizontal_Distance_To_Roadways = %s AND Hillshade_9am = %s AND\n",
    "              Hillshade_Noon = %s AND Hillshade_3pm = %s AND\n",
    "              Horizontal_Distance_To_Fire_Points = %s AND Wilderness_Area = %s AND\n",
    "              Soil_Type = %s AND Cover_Type = %s\n",
    "    \"\"\"\n",
    "\n",
    "    insert_sql = \"\"\"\n",
    "        INSERT INTO covertype_data (\n",
    "            Elevation, Aspect, Slope, Horizontal_Distance_To_Hydrology,\n",
    "            Vertical_Distance_To_Hydrology, Horizontal_Distance_To_Roadways,\n",
    "            Hillshade_9am, Hillshade_Noon, Hillshade_3pm,\n",
    "            Horizontal_Distance_To_Fire_Points, Wilderness_Area,\n",
    "            Soil_Type, Cover_Type\n",
    "        ) VALUES (\n",
    "            %s, %s, %s, %s, %s, %s, %s, %s, %s, %s, %s, %s, %s\n",
    "        )\n",
    "    \"\"\"\n",
    "\n",
    "    inserted_count = 0\n",
    "\n",
    "    try:\n",
    "        for row in data:\n",
    "            cursor.execute(check_sql, tuple(row))\n",
    "            exists = cursor.fetchone()[0]\n",
    "\n",
    "            if exists == 0:\n",
    "                cursor.execute(insert_sql, tuple(row))\n",
    "                inserted_count += 1\n",
    "\n",
    "        conn.commit()\n",
    "        print(f\"Inserted {inserted_count} new rows into covertype_data.\")\n",
    "    finally:\n",
    "        cursor.close()\n",
    "        conn.close()\n"
   ]
  },
  {
   "cell_type": "code",
   "execution_count": 34,
   "id": "42f60728-d54f-419c-a116-0e8210bec327",
   "metadata": {},
   "outputs": [
    {
     "name": "stdout",
     "output_type": "stream",
     "text": [
      "Inserted 1162 new rows into covertype_data.\n"
     ]
    }
   ],
   "source": [
    "insert_unique_covertype_data(batch_data)"
   ]
  },
  {
   "cell_type": "code",
   "execution_count": 36,
   "id": "7449ca3a-916b-470a-b24c-3bf629367b97",
   "metadata": {},
   "outputs": [
    {
     "name": "stdout",
     "output_type": "stream",
     "text": [
      "Total records in covertype_data: 1162\n"
     ]
    }
   ],
   "source": [
    "results = fetch_all_covertype_records()"
   ]
  },
  {
   "cell_type": "code",
   "execution_count": null,
   "id": "972d48c5-d786-4d8e-920a-a7158ec76f6e",
   "metadata": {},
   "outputs": [],
   "source": []
  }
 ],
 "metadata": {
  "kernelspec": {
   "display_name": "Python 3 (ipykernel)",
   "language": "python",
   "name": "python3"
  },
  "language_info": {
   "codemirror_mode": {
    "name": "ipython",
    "version": 3
   },
   "file_extension": ".py",
   "mimetype": "text/x-python",
   "name": "python",
   "nbconvert_exporter": "python",
   "pygments_lexer": "ipython3",
   "version": "3.11.6"
  }
 },
 "nbformat": 4,
 "nbformat_minor": 5
}
