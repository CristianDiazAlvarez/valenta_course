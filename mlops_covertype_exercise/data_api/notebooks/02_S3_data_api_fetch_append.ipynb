{
 "cells": [
  {
   "cell_type": "markdown",
   "id": "f18ddd21-199f-490b-b0ba-0c4e1958c01b",
   "metadata": {},
   "source": [
    "# Data API - Fetch and append to S3 object"
   ]
  },
  {
   "cell_type": "code",
   "execution_count": null,
   "id": "8574149c-432b-4712-8552-655a6661a82e",
   "metadata": {},
   "outputs": [],
   "source": [
    "pip install boto3"
   ]
  },
  {
   "cell_type": "code",
   "execution_count": 1,
   "id": "b8d10f5a-0947-4ef6-b9a5-5c779c081d07",
   "metadata": {},
   "outputs": [],
   "source": [
    "import requests\n",
    "import boto3\n",
    "import pandas as pd\n",
    "import io"
   ]
  },
  {
   "cell_type": "code",
   "execution_count": null,
   "id": "5e6fce2d-878b-4dcd-b263-454a80e06b62",
   "metadata": {},
   "outputs": [],
   "source": [
    "# Columns from your dataset\n",
    "columns = [\n",
    "    \"Elevation\", \"Aspect\", \"Slope\", \"Horizontal_Distance_To_Hydrology\",\n",
    "    \"Vertical_Distance_To_Hydrology\", \"Horizontal_Distance_To_Roadways\",\n",
    "    \"Hillshade_9am\", \"Hillshade_Noon\", \"Hillshade_3pm\",\n",
    "    \"Horizontal_Distance_To_Fire_Points\", \"Wilderness_Area\",\n",
    "    \"Soil_Type\", \"Cover_Type\"\n",
    "]\n",
    "\n",
    "# S3/MinIO config\n",
    "s3 = boto3.client(\n",
    "    \"s3\",\n",
    "    endpoint_url=\"http://minio:9000\",\n",
    "    aws_access_key_id=\"admin\",\n",
    "    aws_secret_access_key=\"supersecret\",\n",
    "    region_name=\"us-east-1\"\n",
    ")\n",
    "bucket_name = \"covertype-data\"\n",
    "object_key = \"responses.csv\"\n",
    "\n",
    "# Ensure bucket exists\n",
    "try:\n",
    "    s3.head_bucket(Bucket=bucket_name)\n",
    "except:\n",
    "    s3.create_bucket(Bucket=bucket_name)\n",
    "\n",
    "def fetch_and_append(group_number=1):\n",
    "    # Fetch data from FastAPI\n",
    "    url = \"http://api:80/data\"\n",
    "    params = {\"group_number\": group_number}\n",
    "    response = requests.get(url, params=params)\n",
    "    data = response.json()[\"data\"]\n",
    "\n",
    "    # Convert to DataFrame\n",
    "    df = pd.DataFrame(data, columns=columns)\n",
    "\n",
    "    # Download existing CSV from S3 if exists\n",
    "    try:\n",
    "        obj = s3.get_object(Bucket=bucket_name, Key=object_key)\n",
    "        existing_df = pd.read_csv(io.BytesIO(obj['Body'].read()))\n",
    "        df = pd.concat([existing_df, df], ignore_index=True)\n",
    "    except s3.exceptions.NoSuchKey:\n",
    "        pass\n",
    "\n",
    "    # Save back to S3\n",
    "    csv_buffer = io.StringIO()\n",
    "    df.to_csv(csv_buffer, index=False)\n",
    "    s3.put_object(Bucket=bucket_name, Key=object_key, Body=csv_buffer.getvalue())\n",
    "    print(f\"Appended data for group {group_number} to S3.\")\n",
    "\n",
    "# Example usage:\n",
    "fetch_and_append(group_number=10)"
   ]
  }
 ],
 "metadata": {
  "kernelspec": {
   "display_name": "Python 3 (ipykernel)",
   "language": "python",
   "name": "python3"
  },
  "language_info": {
   "codemirror_mode": {
    "name": "ipython",
    "version": 3
   },
   "file_extension": ".py",
   "mimetype": "text/x-python",
   "name": "python",
   "nbconvert_exporter": "python",
   "pygments_lexer": "ipython3",
   "version": "3.11.6"
  }
 },
 "nbformat": 4,
 "nbformat_minor": 5
}
